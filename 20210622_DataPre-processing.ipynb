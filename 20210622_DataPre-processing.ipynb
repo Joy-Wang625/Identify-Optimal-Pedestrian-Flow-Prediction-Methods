{
 "cells": [
  {
   "cell_type": "code",
   "execution_count": 1,
   "id": "quiet-australian",
   "metadata": {},
   "outputs": [],
   "source": [
    "import numpy as np\n",
    "import pandas as pd\n",
    "import matplotlib.pyplot as plt\n",
    "import seaborn as sns\n",
    "import os\n",
    "import statistics\n",
    "%matplotlib inline\n",
    "from datetime import datetime\n",
    "from pandas import Series\n",
    "import warnings\n",
    "warnings.filterwarnings(\"ignore\")\n",
    "plt.style.use('fivethirtyeight')"
   ]
  },
  {
   "cell_type": "markdown",
   "id": "suitable-enforcement",
   "metadata": {},
   "source": [
    "# Data Pre-processing\n",
    "### Import Time Series Data"
   ]
  },
  {
   "cell_type": "markdown",
   "id": "gorgeous-speaking",
   "metadata": {},
   "source": [
    "- read the footfall data\n",
    "- convert the 'timestamp' colum to pandas timestamp data type\n",
    "- resample the time unit to one hour and interpolate the missing data using linear method.\n",
    "- extract features from timestamp\n",
    "- export as csv"
   ]
  },
  {
   "cell_type": "code",
   "execution_count": 8,
   "id": "banned-maintenance",
   "metadata": {},
   "outputs": [],
   "source": [
    "def preprocess(year): \n",
    "    \"\"\"\n",
    "        read the footfall data and resample the time to one hour unit.\n",
    "        \n",
    "    \"\"\"    \n",
    "    for month in range(12):\n",
    "        if month < 9 :\n",
    "            FFraw = pd.read_csv(year + '/' + year + '-0' + str(month + 1) + '.csv')\n",
    "            \n",
    "            FFraw['timestamp'] = FFraw['timestamp'].str.replace('T', ' ')\n",
    "            FFraw['timestamp'] = FFraw['timestamp'].str.replace('Z', '')\n",
    "            FFraw.timestamp = pd.to_datetime(FFraw.timestamp, format = '%Y-%m-%d %H:%M:%S')\n",
    "\n",
    "            FFraw.index = FFraw.timestamp\n",
    "            FFraw_h = FFraw.groupby('location').resample('H').mean()\n",
    "            FFraw_h = FFraw_h.reset_index(level = ['timestamp'])\n",
    "            FFraw_h.timestamp = pd.to_datetime(FFraw_h.timestamp, format = '%Y-%m-%d %H:%M:%S')\n",
    "            FFraw_h.footfall = FFraw_h.footfall * 12\n",
    "            FFraw_h['footfall'].replace(0, np.nan, inplace = True)\n",
    "            FFraw_h['footfall'] = FFraw_h['footfall'].interpolate(method='linear')          \n",
    "\n",
    "            FFraw_h['year'] = FFraw_h.timestamp.dt.year\n",
    "            FFraw_h['month'] = FFraw_h.timestamp.dt.month\n",
    "            FFraw_h['day'] = FFraw_h.timestamp.dt.day\n",
    "            FFraw_h['hour'] = FFraw_h.timestamp.dt.hour\n",
    "            FFraw_h['day_of_week'] = FFraw_h.timestamp.dt.dayofweek + 1\n",
    "\n",
    "            FF_preprocess = FFraw_h.reset_index(drop = True)\n",
    "            FF_preprocess.to_csv('preprocess/'+ year + '-0' + str(month + 1) + '.csv')\n",
    "\n",
    "        else:\n",
    "            FFraw = pd.read_csv(year + '/' + year + '-' + str(month + 1) + '.csv')\n",
    "            \n",
    "            FFraw['timestamp'] = FFraw['timestamp'].str.replace('T', ' ')\n",
    "            FFraw['timestamp'] = FFraw['timestamp'].str.replace('Z', '')\n",
    "            FFraw.timestamp = pd.to_datetime(FFraw.timestamp, format = '%Y-%m-%d %H:%M:%S')\n",
    "\n",
    "            FFraw.index = FFraw.timestamp\n",
    "            FFraw_h = FFraw.groupby('location').resample('H').mean()\n",
    "            FFraw_h = FFraw_h.reset_index(level = ['timestamp'])\n",
    "            FFraw_h.timestamp = pd.to_datetime(FFraw_h.timestamp, format = '%Y-%m-%d %H:%M:%S')\n",
    "            FFraw_h.footfall = FFraw_h.footfall * 12\n",
    "            FFraw_h['footfall'].replace(0, np.nan, inplace = True)\n",
    "            FFraw_h['footfall'] = FFraw_h['footfall'].interpolate(method='linear')          \n",
    "\n",
    "            FFraw_h['year'] = FFraw_h.timestamp.dt.year\n",
    "            FFraw_h['month'] = FFraw_h.timestamp.dt.month\n",
    "            FFraw_h['day'] = FFraw_h.timestamp.dt.day\n",
    "            FFraw_h['hour'] = FFraw_h.timestamp.dt.hour\n",
    "            FFraw_h['day_of_week'] = FFraw_h.timestamp.dt.dayofweek + 1\n",
    "\n",
    "            FF_preprocess = FFraw_h.reset_index(drop = True)\n",
    "            FF_preprocess.to_csv('preprocess/'+ year + '-' + str(month + 1) + '.csv')\n"
   ]
  },
  {
   "cell_type": "code",
   "execution_count": 10,
   "id": "dried-apparel",
   "metadata": {},
   "outputs": [],
   "source": [
    "preprocess('2018')\n",
    "preprocess('2019')\n",
    "preprocess('2020')"
   ]
  },
  {
   "cell_type": "markdown",
   "id": "advanced-albany",
   "metadata": {},
   "source": [
    "### Stack FF Data with Same Year"
   ]
  },
  {
   "cell_type": "code",
   "execution_count": 13,
   "id": "dying-green",
   "metadata": {},
   "outputs": [],
   "source": [
    "def stack_footfall(year):\n",
    "    footfall = pd.read_csv('preprocess/'+ year +'-01.csv', index_col = 0)\n",
    "    \n",
    "    for i in range(11):\n",
    "        if i < 8:\n",
    "            footfall = footfall.append(\n",
    "                pd.read_csv('preprocess/'+ year +'-0' + str(i + 2) + '.csv', index_col = 0))\n",
    "        else:\n",
    "            footfall = footfall.append(\n",
    "                pd.read_csv('preprocess/'+ year +'-' + str(i + 2) + '.csv', index_col = 0)) \n",
    "            \n",
    "    footfall.timestamp = pd.to_datetime(footfall.timestamp, format = '%Y-%m-%d %H:%M:%S') \n",
    "    \n",
    "    return footfall"
   ]
  },
  {
   "cell_type": "code",
   "execution_count": 14,
   "id": "narrative-meditation",
   "metadata": {},
   "outputs": [],
   "source": [
    "ff2018 = stack_footfall('2018')\n",
    "ff2019 = stack_footfall('2019')\n",
    "ff2020 = stack_footfall('2020')"
   ]
  },
  {
   "cell_type": "markdown",
   "id": "fourth-premises",
   "metadata": {},
   "source": [
    "### Stack FF Data of 3 Years"
   ]
  },
  {
   "cell_type": "code",
   "execution_count": 15,
   "id": "sought-utility",
   "metadata": {},
   "outputs": [],
   "source": [
    "ff = ff2018.append(ff2019).append(ff2020)\n",
    "ff.to_csv('stackfootfall.csv')"
   ]
  },
  {
   "cell_type": "markdown",
   "id": "artificial-english",
   "metadata": {},
   "source": [
    "### Load FF Data"
   ]
  },
  {
   "cell_type": "code",
   "execution_count": null,
   "id": "requested-nebraska",
   "metadata": {},
   "outputs": [],
   "source": [
    "ff = pd.read_csv('stackfootfall.csv')\n",
    "ff.timestamp = pd.to_datetime(footfall.timestamp, format = '%Y-%m-%d %H:%M:%S') "
   ]
  },
  {
   "cell_type": "markdown",
   "id": "center-headset",
   "metadata": {},
   "source": [
    "### Exclude Locations with Too Much Missing Data"
   ]
  },
  {
   "cell_type": "markdown",
   "id": "critical-edwards",
   "metadata": {},
   "source": [
    "identify "
   ]
  }
 ],
 "metadata": {
  "kernelspec": {
   "display_name": "urbsim",
   "language": "python",
   "name": "urbsim"
  },
  "language_info": {
   "codemirror_mode": {
    "name": "ipython",
    "version": 3
   },
   "file_extension": ".py",
   "mimetype": "text/x-python",
   "name": "python",
   "nbconvert_exporter": "python",
   "pygments_lexer": "ipython3",
   "version": "3.7.9"
  }
 },
 "nbformat": 4,
 "nbformat_minor": 5
}
