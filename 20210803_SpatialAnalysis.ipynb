{
 "cells": [
  {
   "cell_type": "code",
   "execution_count": 1,
   "id": "disturbed-college",
   "metadata": {},
   "outputs": [],
   "source": [
    "import numpy as np\n",
    "import pandas as pd\n",
    "import matplotlib.pyplot as plt\n",
    "import seaborn as sns\n",
    "import os\n",
    "import statistics\n",
    "\n",
    "%matplotlib inline"
   ]
  },
  {
   "cell_type": "markdown",
   "id": "usual-economics",
   "metadata": {},
   "source": [
    "### Link to metadata"
   ]
  },
  {
   "cell_type": "code",
   "execution_count": 2,
   "id": "external-moisture",
   "metadata": {},
   "outputs": [],
   "source": [
    "ff = pd.read_csv('comp.csv')"
   ]
  },
  {
   "cell_type": "code",
   "execution_count": 3,
   "id": "hybrid-america",
   "metadata": {},
   "outputs": [
    {
     "data": {
      "text/html": [
       "<div>\n",
       "<style scoped>\n",
       "    .dataframe tbody tr th:only-of-type {\n",
       "        vertical-align: middle;\n",
       "    }\n",
       "\n",
       "    .dataframe tbody tr th {\n",
       "        vertical-align: top;\n",
       "    }\n",
       "\n",
       "    .dataframe thead th {\n",
       "        text-align: right;\n",
       "    }\n",
       "</style>\n",
       "<table border=\"1\" class=\"dataframe\">\n",
       "  <thead>\n",
       "    <tr style=\"text-align: right;\">\n",
       "      <th></th>\n",
       "      <th>location</th>\n",
       "      <th>best</th>\n",
       "      <th>excLSTM</th>\n",
       "    </tr>\n",
       "  </thead>\n",
       "  <tbody>\n",
       "    <tr>\n",
       "      <th>0</th>\n",
       "      <td>5.0</td>\n",
       "      <td>LSTM</td>\n",
       "      <td>MovAvg</td>\n",
       "    </tr>\n",
       "    <tr>\n",
       "      <th>1</th>\n",
       "      <td>6.0</td>\n",
       "      <td>LSTM</td>\n",
       "      <td>MovAvg</td>\n",
       "    </tr>\n",
       "    <tr>\n",
       "      <th>2</th>\n",
       "      <td>7.0</td>\n",
       "      <td>NaN</td>\n",
       "      <td>MovAvg</td>\n",
       "    </tr>\n",
       "    <tr>\n",
       "      <th>3</th>\n",
       "      <td>31.0</td>\n",
       "      <td>LSTM</td>\n",
       "      <td>SARIMA</td>\n",
       "    </tr>\n",
       "    <tr>\n",
       "      <th>4</th>\n",
       "      <td>62.0</td>\n",
       "      <td>NaN</td>\n",
       "      <td>MovAvg</td>\n",
       "    </tr>\n",
       "    <tr>\n",
       "      <th>...</th>\n",
       "      <td>...</td>\n",
       "      <td>...</td>\n",
       "      <td>...</td>\n",
       "    </tr>\n",
       "    <tr>\n",
       "      <th>309</th>\n",
       "      <td>1165.0</td>\n",
       "      <td>NaN</td>\n",
       "      <td>NaN</td>\n",
       "    </tr>\n",
       "    <tr>\n",
       "      <th>310</th>\n",
       "      <td>1119.0</td>\n",
       "      <td>LSTM</td>\n",
       "      <td>MovAvg</td>\n",
       "    </tr>\n",
       "    <tr>\n",
       "      <th>311</th>\n",
       "      <td>1166.0</td>\n",
       "      <td>NaN</td>\n",
       "      <td>NaN</td>\n",
       "    </tr>\n",
       "    <tr>\n",
       "      <th>312</th>\n",
       "      <td>1167.0</td>\n",
       "      <td>NaN</td>\n",
       "      <td>NaN</td>\n",
       "    </tr>\n",
       "    <tr>\n",
       "      <th>313</th>\n",
       "      <td>1168.0</td>\n",
       "      <td>NaN</td>\n",
       "      <td>NaN</td>\n",
       "    </tr>\n",
       "  </tbody>\n",
       "</table>\n",
       "<p>313 rows × 3 columns</p>\n",
       "</div>"
      ],
      "text/plain": [
       "     location  best excLSTM\n",
       "0         5.0  LSTM  MovAvg\n",
       "1         6.0  LSTM  MovAvg\n",
       "2         7.0   NaN  MovAvg\n",
       "3        31.0  LSTM  SARIMA\n",
       "4        62.0   NaN  MovAvg\n",
       "..        ...   ...     ...\n",
       "309    1165.0   NaN     NaN\n",
       "310    1119.0  LSTM  MovAvg\n",
       "311    1166.0   NaN     NaN\n",
       "312    1167.0   NaN     NaN\n",
       "313    1168.0   NaN     NaN\n",
       "\n",
       "[313 rows x 3 columns]"
      ]
     },
     "execution_count": 3,
     "metadata": {},
     "output_type": "execute_result"
    }
   ],
   "source": [
    "loc = ff[['location','best','excLSTM']]\n",
    "loc = loc.drop_duplicates()\n",
    "loc.to_csv('fliter_location.csv')\n",
    "loc"
   ]
  },
  {
   "cell_type": "code",
   "execution_count": 4,
   "id": "marked-dimension",
   "metadata": {},
   "outputs": [],
   "source": [
    "meta = pd.read_csv('meta/ff_locations.csv')"
   ]
  },
  {
   "cell_type": "code",
   "execution_count": 5,
   "id": "canadian-tuition",
   "metadata": {},
   "outputs": [
    {
     "data": {
      "text/html": [
       "<div>\n",
       "<style scoped>\n",
       "    .dataframe tbody tr th:only-of-type {\n",
       "        vertical-align: middle;\n",
       "    }\n",
       "\n",
       "    .dataframe tbody tr th {\n",
       "        vertical-align: top;\n",
       "    }\n",
       "\n",
       "    .dataframe thead th {\n",
       "        text-align: right;\n",
       "    }\n",
       "</style>\n",
       "<table border=\"1\" class=\"dataframe\">\n",
       "  <thead>\n",
       "    <tr style=\"text-align: right;\">\n",
       "      <th></th>\n",
       "      <th>location</th>\n",
       "      <th>address</th>\n",
       "      <th>city</th>\n",
       "      <th>region</th>\n",
       "      <th>lat</th>\n",
       "      <th>lon</th>\n",
       "      <th>position</th>\n",
       "      <th>type</th>\n",
       "    </tr>\n",
       "  </thead>\n",
       "  <tbody>\n",
       "    <tr>\n",
       "      <th>0</th>\n",
       "      <td>8</td>\n",
       "      <td>Holborn Bars, 3 Holborn, London, EC1N 2LL, Gre...</td>\n",
       "      <td>London</td>\n",
       "      <td>Greater London</td>\n",
       "      <td>51.51806</td>\n",
       "      <td>-0.11111</td>\n",
       "      <td>NaN</td>\n",
       "      <td>External</td>\n",
       "    </tr>\n",
       "    <tr>\n",
       "      <th>1</th>\n",
       "      <td>9</td>\n",
       "      <td>4 Gray's Inn Road, London, WC1X 8HG, Greater L...</td>\n",
       "      <td>London</td>\n",
       "      <td>Greater London</td>\n",
       "      <td>51.51825</td>\n",
       "      <td>-0.11122</td>\n",
       "      <td>NaN</td>\n",
       "      <td>External</td>\n",
       "    </tr>\n",
       "    <tr>\n",
       "      <th>2</th>\n",
       "      <td>10</td>\n",
       "      <td>19-20 Great Sutton Street, London, EC1V 0DR, G...</td>\n",
       "      <td>London</td>\n",
       "      <td>Greater London</td>\n",
       "      <td>51.52329</td>\n",
       "      <td>-0.10053</td>\n",
       "      <td>NaN</td>\n",
       "      <td>Internal</td>\n",
       "    </tr>\n",
       "    <tr>\n",
       "      <th>3</th>\n",
       "      <td>11</td>\n",
       "      <td>76 New Oxford Street, London, WC1A 1EU, Greate...</td>\n",
       "      <td>London</td>\n",
       "      <td>Greater London</td>\n",
       "      <td>51.51684</td>\n",
       "      <td>-0.12749</td>\n",
       "      <td>NaN</td>\n",
       "      <td>External</td>\n",
       "    </tr>\n",
       "    <tr>\n",
       "      <th>4</th>\n",
       "      <td>12</td>\n",
       "      <td>18 Hammersmith Broadway, London, W6 7AB, Great...</td>\n",
       "      <td>London</td>\n",
       "      <td>Greater London</td>\n",
       "      <td>51.49340</td>\n",
       "      <td>-0.22403</td>\n",
       "      <td>NaN</td>\n",
       "      <td>External</td>\n",
       "    </tr>\n",
       "    <tr>\n",
       "      <th>...</th>\n",
       "      <td>...</td>\n",
       "      <td>...</td>\n",
       "      <td>...</td>\n",
       "      <td>...</td>\n",
       "      <td>...</td>\n",
       "      <td>...</td>\n",
       "      <td>...</td>\n",
       "      <td>...</td>\n",
       "    </tr>\n",
       "    <tr>\n",
       "      <th>1207</th>\n",
       "      <td>1216</td>\n",
       "      <td>90-100 Edgware Road, London, W2 2EA, Greater L...</td>\n",
       "      <td>London</td>\n",
       "      <td>Greater London</td>\n",
       "      <td>51.51555</td>\n",
       "      <td>-0.16349</td>\n",
       "      <td>Tesco Metro</td>\n",
       "      <td>External</td>\n",
       "    </tr>\n",
       "    <tr>\n",
       "      <th>1208</th>\n",
       "      <td>1213</td>\n",
       "      <td>9 Spring Street, London, W2 3RA, Greater London</td>\n",
       "      <td>London</td>\n",
       "      <td>Greater London</td>\n",
       "      <td>51.51458</td>\n",
       "      <td>-0.17568</td>\n",
       "      <td>Headcase</td>\n",
       "      <td>External</td>\n",
       "    </tr>\n",
       "    <tr>\n",
       "      <th>1209</th>\n",
       "      <td>1197</td>\n",
       "      <td>163-165 Praed Street, London, W2 1RH, Greater ...</td>\n",
       "      <td>London</td>\n",
       "      <td>Greater London</td>\n",
       "      <td>51.51581</td>\n",
       "      <td>-0.17499</td>\n",
       "      <td>Angus Steak House</td>\n",
       "      <td>Internal</td>\n",
       "    </tr>\n",
       "    <tr>\n",
       "      <th>1210</th>\n",
       "      <td>1224</td>\n",
       "      <td>75-76 High Street, Northallerton, DL7 8EG, Yor...</td>\n",
       "      <td>Northallerton</td>\n",
       "      <td>Yorkshire and the Humber</td>\n",
       "      <td>54.34196</td>\n",
       "      <td>-1.43558</td>\n",
       "      <td>Bridgfords</td>\n",
       "      <td>External</td>\n",
       "    </tr>\n",
       "    <tr>\n",
       "      <th>1211</th>\n",
       "      <td>1227</td>\n",
       "      <td>Neo Bankside, 52 Holland Street, London, SE1 9...</td>\n",
       "      <td>London</td>\n",
       "      <td>Greater London</td>\n",
       "      <td>51.50723</td>\n",
       "      <td>-0.09689</td>\n",
       "      <td>Block B</td>\n",
       "      <td>External</td>\n",
       "    </tr>\n",
       "  </tbody>\n",
       "</table>\n",
       "<p>1212 rows × 8 columns</p>\n",
       "</div>"
      ],
      "text/plain": [
       "      location                                            address  \\\n",
       "0            8  Holborn Bars, 3 Holborn, London, EC1N 2LL, Gre...   \n",
       "1            9  4 Gray's Inn Road, London, WC1X 8HG, Greater L...   \n",
       "2           10  19-20 Great Sutton Street, London, EC1V 0DR, G...   \n",
       "3           11  76 New Oxford Street, London, WC1A 1EU, Greate...   \n",
       "4           12  18 Hammersmith Broadway, London, W6 7AB, Great...   \n",
       "...        ...                                                ...   \n",
       "1207      1216  90-100 Edgware Road, London, W2 2EA, Greater L...   \n",
       "1208      1213    9 Spring Street, London, W2 3RA, Greater London   \n",
       "1209      1197  163-165 Praed Street, London, W2 1RH, Greater ...   \n",
       "1210      1224  75-76 High Street, Northallerton, DL7 8EG, Yor...   \n",
       "1211      1227  Neo Bankside, 52 Holland Street, London, SE1 9...   \n",
       "\n",
       "               city                    region       lat      lon  \\\n",
       "0            London            Greater London  51.51806 -0.11111   \n",
       "1            London            Greater London  51.51825 -0.11122   \n",
       "2            London            Greater London  51.52329 -0.10053   \n",
       "3            London            Greater London  51.51684 -0.12749   \n",
       "4            London            Greater London  51.49340 -0.22403   \n",
       "...             ...                       ...       ...      ...   \n",
       "1207         London            Greater London  51.51555 -0.16349   \n",
       "1208         London            Greater London  51.51458 -0.17568   \n",
       "1209         London            Greater London  51.51581 -0.17499   \n",
       "1210  Northallerton  Yorkshire and the Humber  54.34196 -1.43558   \n",
       "1211         London            Greater London  51.50723 -0.09689   \n",
       "\n",
       "               position      type  \n",
       "0                   NaN  External  \n",
       "1                   NaN  External  \n",
       "2                   NaN  Internal  \n",
       "3                   NaN  External  \n",
       "4                   NaN  External  \n",
       "...                 ...       ...  \n",
       "1207        Tesco Metro  External  \n",
       "1208           Headcase  External  \n",
       "1209  Angus Steak House  Internal  \n",
       "1210         Bridgfords  External  \n",
       "1211            Block B  External  \n",
       "\n",
       "[1212 rows x 8 columns]"
      ]
     },
     "execution_count": 5,
     "metadata": {},
     "output_type": "execute_result"
    }
   ],
   "source": [
    "meta"
   ]
  },
  {
   "cell_type": "code",
   "execution_count": 6,
   "id": "simplified-emergency",
   "metadata": {
    "scrolled": true
   },
   "outputs": [
    {
     "data": {
      "text/html": [
       "<div>\n",
       "<style scoped>\n",
       "    .dataframe tbody tr th:only-of-type {\n",
       "        vertical-align: middle;\n",
       "    }\n",
       "\n",
       "    .dataframe tbody tr th {\n",
       "        vertical-align: top;\n",
       "    }\n",
       "\n",
       "    .dataframe thead th {\n",
       "        text-align: right;\n",
       "    }\n",
       "</style>\n",
       "<table border=\"1\" class=\"dataframe\">\n",
       "  <thead>\n",
       "    <tr style=\"text-align: right;\">\n",
       "      <th></th>\n",
       "      <th>location</th>\n",
       "      <th>best</th>\n",
       "      <th>excLSTM</th>\n",
       "      <th>address</th>\n",
       "      <th>city</th>\n",
       "      <th>region</th>\n",
       "      <th>lat</th>\n",
       "      <th>lon</th>\n",
       "      <th>position</th>\n",
       "      <th>type</th>\n",
       "    </tr>\n",
       "  </thead>\n",
       "  <tbody>\n",
       "    <tr>\n",
       "      <th>0</th>\n",
       "      <td>5.0</td>\n",
       "      <td>LSTM</td>\n",
       "      <td>MovAvg</td>\n",
       "      <td>Unit 35, Hammersmith Broadway Shopping Centre,...</td>\n",
       "      <td>London</td>\n",
       "      <td>Greater London</td>\n",
       "      <td>51.49273</td>\n",
       "      <td>-0.22426</td>\n",
       "      <td>King Street entrance</td>\n",
       "      <td>External</td>\n",
       "    </tr>\n",
       "    <tr>\n",
       "      <th>1</th>\n",
       "      <td>6.0</td>\n",
       "      <td>LSTM</td>\n",
       "      <td>MovAvg</td>\n",
       "      <td>Unit 11, Hammersmith Broadway Shopping Centre,...</td>\n",
       "      <td>London</td>\n",
       "      <td>Greater London</td>\n",
       "      <td>51.49215</td>\n",
       "      <td>-0.22356</td>\n",
       "      <td>Hammersmith Underground Station - Talgarth Roa...</td>\n",
       "      <td>External</td>\n",
       "    </tr>\n",
       "    <tr>\n",
       "      <th>2</th>\n",
       "      <td>7.0</td>\n",
       "      <td>NaN</td>\n",
       "      <td>MovAvg</td>\n",
       "      <td>Unit 13-16, Hammersmith Broadway Shopping Cent...</td>\n",
       "      <td>London</td>\n",
       "      <td>Greater London</td>\n",
       "      <td>51.49171</td>\n",
       "      <td>-0.22361</td>\n",
       "      <td>Talgarth Road entrance</td>\n",
       "      <td>External</td>\n",
       "    </tr>\n",
       "    <tr>\n",
       "      <th>3</th>\n",
       "      <td>31.0</td>\n",
       "      <td>LSTM</td>\n",
       "      <td>SARIMA</td>\n",
       "      <td>Unit 3, Coppergate Shopping Centre, St. Marys ...</td>\n",
       "      <td>York</td>\n",
       "      <td>Yorkshire and the Humber</td>\n",
       "      <td>53.95737</td>\n",
       "      <td>-1.07965</td>\n",
       "      <td>Topshop</td>\n",
       "      <td>External</td>\n",
       "    </tr>\n",
       "    <tr>\n",
       "      <th>4</th>\n",
       "      <td>62.0</td>\n",
       "      <td>NaN</td>\n",
       "      <td>MovAvg</td>\n",
       "      <td>Unit 9, Hammersmith Broadway Shopping Centre, ...</td>\n",
       "      <td>London</td>\n",
       "      <td>Greater London</td>\n",
       "      <td>51.49226</td>\n",
       "      <td>-0.22374</td>\n",
       "      <td>Bus station link corridor</td>\n",
       "      <td>External</td>\n",
       "    </tr>\n",
       "    <tr>\n",
       "      <th>...</th>\n",
       "      <td>...</td>\n",
       "      <td>...</td>\n",
       "      <td>...</td>\n",
       "      <td>...</td>\n",
       "      <td>...</td>\n",
       "      <td>...</td>\n",
       "      <td>...</td>\n",
       "      <td>...</td>\n",
       "      <td>...</td>\n",
       "      <td>...</td>\n",
       "    </tr>\n",
       "    <tr>\n",
       "      <th>308</th>\n",
       "      <td>1165.0</td>\n",
       "      <td>NaN</td>\n",
       "      <td>NaN</td>\n",
       "      <td>40 West Street, Dorking, RH4 1BU, South East</td>\n",
       "      <td>Dorking</td>\n",
       "      <td>South East</td>\n",
       "      <td>51.23186</td>\n",
       "      <td>-0.33629</td>\n",
       "      <td>NaN</td>\n",
       "      <td>External</td>\n",
       "    </tr>\n",
       "    <tr>\n",
       "      <th>309</th>\n",
       "      <td>1119.0</td>\n",
       "      <td>LSTM</td>\n",
       "      <td>MovAvg</td>\n",
       "      <td>26-28 The Moor, Sheffield, S1 4PA, Yorkshire a...</td>\n",
       "      <td>Sheffield</td>\n",
       "      <td>Yorkshire and the Humber</td>\n",
       "      <td>53.37705</td>\n",
       "      <td>-1.47288</td>\n",
       "      <td>NaN</td>\n",
       "      <td>External</td>\n",
       "    </tr>\n",
       "    <tr>\n",
       "      <th>310</th>\n",
       "      <td>1166.0</td>\n",
       "      <td>NaN</td>\n",
       "      <td>NaN</td>\n",
       "      <td>149-151 Victoria Street, London, SW1E 5NH, Gre...</td>\n",
       "      <td>London</td>\n",
       "      <td>Greater London</td>\n",
       "      <td>51.49683</td>\n",
       "      <td>-0.13995</td>\n",
       "      <td>NaN</td>\n",
       "      <td>External</td>\n",
       "    </tr>\n",
       "    <tr>\n",
       "      <th>311</th>\n",
       "      <td>1167.0</td>\n",
       "      <td>NaN</td>\n",
       "      <td>NaN</td>\n",
       "      <td>Unit LM08, Intu Victoria Centre, Victoria Cent...</td>\n",
       "      <td>Nottingham</td>\n",
       "      <td>East Midlands</td>\n",
       "      <td>52.95720</td>\n",
       "      <td>-1.14727</td>\n",
       "      <td>NaN</td>\n",
       "      <td>External</td>\n",
       "    </tr>\n",
       "    <tr>\n",
       "      <th>312</th>\n",
       "      <td>1168.0</td>\n",
       "      <td>NaN</td>\n",
       "      <td>NaN</td>\n",
       "      <td>Bicester Village, 1b Pingle Drive, Bicester, O...</td>\n",
       "      <td>Bicester</td>\n",
       "      <td>South East</td>\n",
       "      <td>51.89219</td>\n",
       "      <td>-1.15544</td>\n",
       "      <td>NaN</td>\n",
       "      <td>External</td>\n",
       "    </tr>\n",
       "  </tbody>\n",
       "</table>\n",
       "<p>313 rows × 10 columns</p>\n",
       "</div>"
      ],
      "text/plain": [
       "     location  best excLSTM  \\\n",
       "0         5.0  LSTM  MovAvg   \n",
       "1         6.0  LSTM  MovAvg   \n",
       "2         7.0   NaN  MovAvg   \n",
       "3        31.0  LSTM  SARIMA   \n",
       "4        62.0   NaN  MovAvg   \n",
       "..        ...   ...     ...   \n",
       "308    1165.0   NaN     NaN   \n",
       "309    1119.0  LSTM  MovAvg   \n",
       "310    1166.0   NaN     NaN   \n",
       "311    1167.0   NaN     NaN   \n",
       "312    1168.0   NaN     NaN   \n",
       "\n",
       "                                               address        city  \\\n",
       "0    Unit 35, Hammersmith Broadway Shopping Centre,...      London   \n",
       "1    Unit 11, Hammersmith Broadway Shopping Centre,...      London   \n",
       "2    Unit 13-16, Hammersmith Broadway Shopping Cent...      London   \n",
       "3    Unit 3, Coppergate Shopping Centre, St. Marys ...        York   \n",
       "4    Unit 9, Hammersmith Broadway Shopping Centre, ...      London   \n",
       "..                                                 ...         ...   \n",
       "308       40 West Street, Dorking, RH4 1BU, South East     Dorking   \n",
       "309  26-28 The Moor, Sheffield, S1 4PA, Yorkshire a...   Sheffield   \n",
       "310  149-151 Victoria Street, London, SW1E 5NH, Gre...      London   \n",
       "311  Unit LM08, Intu Victoria Centre, Victoria Cent...  Nottingham   \n",
       "312  Bicester Village, 1b Pingle Drive, Bicester, O...    Bicester   \n",
       "\n",
       "                       region       lat      lon  \\\n",
       "0              Greater London  51.49273 -0.22426   \n",
       "1              Greater London  51.49215 -0.22356   \n",
       "2              Greater London  51.49171 -0.22361   \n",
       "3    Yorkshire and the Humber  53.95737 -1.07965   \n",
       "4              Greater London  51.49226 -0.22374   \n",
       "..                        ...       ...      ...   \n",
       "308                South East  51.23186 -0.33629   \n",
       "309  Yorkshire and the Humber  53.37705 -1.47288   \n",
       "310            Greater London  51.49683 -0.13995   \n",
       "311             East Midlands  52.95720 -1.14727   \n",
       "312                South East  51.89219 -1.15544   \n",
       "\n",
       "                                              position      type  \n",
       "0                                 King Street entrance  External  \n",
       "1    Hammersmith Underground Station - Talgarth Roa...  External  \n",
       "2                               Talgarth Road entrance  External  \n",
       "3                                              Topshop  External  \n",
       "4                            Bus station link corridor  External  \n",
       "..                                                 ...       ...  \n",
       "308                                                NaN  External  \n",
       "309                                                NaN  External  \n",
       "310                                                NaN  External  \n",
       "311                                                NaN  External  \n",
       "312                                                NaN  External  \n",
       "\n",
       "[313 rows x 10 columns]"
      ]
     },
     "execution_count": 6,
     "metadata": {},
     "output_type": "execute_result"
    }
   ],
   "source": [
    "meta_loc = pd.merge(loc, meta, how = 'inner', on = 'location')\n",
    "meta_loc"
   ]
  },
  {
   "cell_type": "code",
   "execution_count": 7,
   "id": "specified-gregory",
   "metadata": {},
   "outputs": [],
   "source": [
    "meta_loc.to_csv('loc_meta.csv')"
   ]
  },
  {
   "cell_type": "code",
   "execution_count": 8,
   "id": "cutting-damages",
   "metadata": {
    "scrolled": true
   },
   "outputs": [],
   "source": [
    "#meta_london = meta_loc.loc[meta_loc.region == 'Greater London']\n",
    "#meta_london"
   ]
  },
  {
   "cell_type": "code",
   "execution_count": 9,
   "id": "dying-thompson",
   "metadata": {},
   "outputs": [],
   "source": [
    "#meta_london.to_csv('london_meta.csv')"
   ]
  },
  {
   "cell_type": "markdown",
   "id": "naughty-brooklyn",
   "metadata": {},
   "source": [
    "### Combine Roads"
   ]
  },
  {
   "cell_type": "code",
   "execution_count": 10,
   "id": "capable-means",
   "metadata": {},
   "outputs": [
    {
     "name": "stderr",
     "output_type": "stream",
     "text": [
      "E:\\Anaconda3\\envs\\urbsim\\lib\\site-packages\\IPython\\core\\interactiveshell.py:3156: DtypeWarning: Columns (20,30,31,32) have mixed types.Specify dtype option on import or set low_memory=False.\n",
      "  interactivity=interactivity, compiler=compiler, result=result)\n"
     ]
    }
   ],
   "source": [
    "nearest_road = pd.read_csv('statistics/nearest_road.csv')\n",
    "road_meta = pd.read_csv('statistics/road_meta2.csv')"
   ]
  },
  {
   "cell_type": "code",
   "execution_count": 11,
   "id": "junior-insert",
   "metadata": {},
   "outputs": [],
   "source": [
    "road_meta['NEAR_FID'] = road_meta['FID']\n",
    "temp = pd.merge(nearest_road, road_meta, how = 'inner', on = 'NEAR_FID')"
   ]
  },
  {
   "cell_type": "code",
   "execution_count": 12,
   "id": "spectacular-shadow",
   "metadata": {},
   "outputs": [
    {
     "data": {
      "text/html": [
       "<div>\n",
       "<style scoped>\n",
       "    .dataframe tbody tr th:only-of-type {\n",
       "        vertical-align: middle;\n",
       "    }\n",
       "\n",
       "    .dataframe tbody tr th {\n",
       "        vertical-align: top;\n",
       "    }\n",
       "\n",
       "    .dataframe thead th {\n",
       "        text-align: right;\n",
       "    }\n",
       "</style>\n",
       "<table border=\"1\" class=\"dataframe\">\n",
       "  <thead>\n",
       "    <tr style=\"text-align: right;\">\n",
       "      <th></th>\n",
       "      <th>location</th>\n",
       "      <th>lat</th>\n",
       "      <th>lon</th>\n",
       "      <th>best</th>\n",
       "      <th>excLSTM</th>\n",
       "      <th>city</th>\n",
       "      <th>region</th>\n",
       "    </tr>\n",
       "  </thead>\n",
       "  <tbody>\n",
       "    <tr>\n",
       "      <th>0</th>\n",
       "      <td>5.0</td>\n",
       "      <td>51.49273</td>\n",
       "      <td>-0.22426</td>\n",
       "      <td>LSTM</td>\n",
       "      <td>MovAvg</td>\n",
       "      <td>London</td>\n",
       "      <td>Greater London</td>\n",
       "    </tr>\n",
       "    <tr>\n",
       "      <th>1</th>\n",
       "      <td>6.0</td>\n",
       "      <td>51.49215</td>\n",
       "      <td>-0.22356</td>\n",
       "      <td>LSTM</td>\n",
       "      <td>MovAvg</td>\n",
       "      <td>London</td>\n",
       "      <td>Greater London</td>\n",
       "    </tr>\n",
       "    <tr>\n",
       "      <th>2</th>\n",
       "      <td>7.0</td>\n",
       "      <td>51.49171</td>\n",
       "      <td>-0.22361</td>\n",
       "      <td>NaN</td>\n",
       "      <td>MovAvg</td>\n",
       "      <td>London</td>\n",
       "      <td>Greater London</td>\n",
       "    </tr>\n",
       "    <tr>\n",
       "      <th>3</th>\n",
       "      <td>31.0</td>\n",
       "      <td>53.95737</td>\n",
       "      <td>-1.07965</td>\n",
       "      <td>LSTM</td>\n",
       "      <td>SARIMA</td>\n",
       "      <td>York</td>\n",
       "      <td>Yorkshire and the Humber</td>\n",
       "    </tr>\n",
       "    <tr>\n",
       "      <th>4</th>\n",
       "      <td>62.0</td>\n",
       "      <td>51.49226</td>\n",
       "      <td>-0.22374</td>\n",
       "      <td>NaN</td>\n",
       "      <td>MovAvg</td>\n",
       "      <td>London</td>\n",
       "      <td>Greater London</td>\n",
       "    </tr>\n",
       "    <tr>\n",
       "      <th>...</th>\n",
       "      <td>...</td>\n",
       "      <td>...</td>\n",
       "      <td>...</td>\n",
       "      <td>...</td>\n",
       "      <td>...</td>\n",
       "      <td>...</td>\n",
       "      <td>...</td>\n",
       "    </tr>\n",
       "    <tr>\n",
       "      <th>308</th>\n",
       "      <td>1165.0</td>\n",
       "      <td>51.23186</td>\n",
       "      <td>-0.33629</td>\n",
       "      <td>NaN</td>\n",
       "      <td>NaN</td>\n",
       "      <td>Dorking</td>\n",
       "      <td>South East</td>\n",
       "    </tr>\n",
       "    <tr>\n",
       "      <th>309</th>\n",
       "      <td>1119.0</td>\n",
       "      <td>53.37705</td>\n",
       "      <td>-1.47288</td>\n",
       "      <td>LSTM</td>\n",
       "      <td>MovAvg</td>\n",
       "      <td>Sheffield</td>\n",
       "      <td>Yorkshire and the Humber</td>\n",
       "    </tr>\n",
       "    <tr>\n",
       "      <th>310</th>\n",
       "      <td>1166.0</td>\n",
       "      <td>51.49683</td>\n",
       "      <td>-0.13995</td>\n",
       "      <td>NaN</td>\n",
       "      <td>NaN</td>\n",
       "      <td>London</td>\n",
       "      <td>Greater London</td>\n",
       "    </tr>\n",
       "    <tr>\n",
       "      <th>311</th>\n",
       "      <td>1167.0</td>\n",
       "      <td>52.95720</td>\n",
       "      <td>-1.14727</td>\n",
       "      <td>NaN</td>\n",
       "      <td>NaN</td>\n",
       "      <td>Nottingham</td>\n",
       "      <td>East Midlands</td>\n",
       "    </tr>\n",
       "    <tr>\n",
       "      <th>312</th>\n",
       "      <td>1168.0</td>\n",
       "      <td>51.89219</td>\n",
       "      <td>-1.15544</td>\n",
       "      <td>NaN</td>\n",
       "      <td>NaN</td>\n",
       "      <td>Bicester</td>\n",
       "      <td>South East</td>\n",
       "    </tr>\n",
       "  </tbody>\n",
       "</table>\n",
       "<p>313 rows × 7 columns</p>\n",
       "</div>"
      ],
      "text/plain": [
       "     location       lat      lon  best excLSTM        city  \\\n",
       "0         5.0  51.49273 -0.22426  LSTM  MovAvg      London   \n",
       "1         6.0  51.49215 -0.22356  LSTM  MovAvg      London   \n",
       "2         7.0  51.49171 -0.22361   NaN  MovAvg      London   \n",
       "3        31.0  53.95737 -1.07965  LSTM  SARIMA        York   \n",
       "4        62.0  51.49226 -0.22374   NaN  MovAvg      London   \n",
       "..        ...       ...      ...   ...     ...         ...   \n",
       "308    1165.0  51.23186 -0.33629   NaN     NaN     Dorking   \n",
       "309    1119.0  53.37705 -1.47288  LSTM  MovAvg   Sheffield   \n",
       "310    1166.0  51.49683 -0.13995   NaN     NaN      London   \n",
       "311    1167.0  52.95720 -1.14727   NaN     NaN  Nottingham   \n",
       "312    1168.0  51.89219 -1.15544   NaN     NaN    Bicester   \n",
       "\n",
       "                       region  \n",
       "0              Greater London  \n",
       "1              Greater London  \n",
       "2              Greater London  \n",
       "3    Yorkshire and the Humber  \n",
       "4              Greater London  \n",
       "..                        ...  \n",
       "308                South East  \n",
       "309  Yorkshire and the Humber  \n",
       "310            Greater London  \n",
       "311             East Midlands  \n",
       "312                South East  \n",
       "\n",
       "[313 rows x 7 columns]"
      ]
     },
     "execution_count": 12,
     "metadata": {},
     "output_type": "execute_result"
    }
   ],
   "source": [
    "loc_meta = meta_loc[['location','lat','lon','best','excLSTM','city','region']]\n",
    "loc_meta"
   ]
  },
  {
   "cell_type": "code",
   "execution_count": null,
   "id": "golden-collection",
   "metadata": {},
   "outputs": [],
   "source": [
    "plt.figure(figsize = (12,4))\n",
    "loc_meta.loc[loc_meta.excLSTM == 'SARIMA']['nearest_roads'].hist(label = 'SARIMA', bins = 20)\n",
    "\n",
    "plt.legend(loc = 'best')"
   ]
  },
  {
   "cell_type": "code",
   "execution_count": 13,
   "id": "impossible-tuning",
   "metadata": {},
   "outputs": [
    {
     "ename": "KeyError",
     "evalue": "'nearest_roads'",
     "output_type": "error",
     "traceback": [
      "\u001b[1;31m---------------------------------------------------------------------------\u001b[0m",
      "\u001b[1;31mKeyError\u001b[0m                                  Traceback (most recent call last)",
      "\u001b[1;32mE:\\Anaconda3\\envs\\urbsim\\lib\\site-packages\\pandas\\core\\indexes\\base.py\u001b[0m in \u001b[0;36mget_loc\u001b[1;34m(self, key, method, tolerance)\u001b[0m\n\u001b[0;32m   3079\u001b[0m             \u001b[1;32mtry\u001b[0m\u001b[1;33m:\u001b[0m\u001b[1;33m\u001b[0m\u001b[1;33m\u001b[0m\u001b[0m\n\u001b[1;32m-> 3080\u001b[1;33m                 \u001b[1;32mreturn\u001b[0m \u001b[0mself\u001b[0m\u001b[1;33m.\u001b[0m\u001b[0m_engine\u001b[0m\u001b[1;33m.\u001b[0m\u001b[0mget_loc\u001b[0m\u001b[1;33m(\u001b[0m\u001b[0mcasted_key\u001b[0m\u001b[1;33m)\u001b[0m\u001b[1;33m\u001b[0m\u001b[1;33m\u001b[0m\u001b[0m\n\u001b[0m\u001b[0;32m   3081\u001b[0m             \u001b[1;32mexcept\u001b[0m \u001b[0mKeyError\u001b[0m \u001b[1;32mas\u001b[0m \u001b[0merr\u001b[0m\u001b[1;33m:\u001b[0m\u001b[1;33m\u001b[0m\u001b[1;33m\u001b[0m\u001b[0m\n",
      "\u001b[1;32mpandas\\_libs\\index.pyx\u001b[0m in \u001b[0;36mpandas._libs.index.IndexEngine.get_loc\u001b[1;34m()\u001b[0m\n",
      "\u001b[1;32mpandas\\_libs\\index.pyx\u001b[0m in \u001b[0;36mpandas._libs.index.IndexEngine.get_loc\u001b[1;34m()\u001b[0m\n",
      "\u001b[1;32mpandas\\_libs\\hashtable_class_helper.pxi\u001b[0m in \u001b[0;36mpandas._libs.hashtable.PyObjectHashTable.get_item\u001b[1;34m()\u001b[0m\n",
      "\u001b[1;32mpandas\\_libs\\hashtable_class_helper.pxi\u001b[0m in \u001b[0;36mpandas._libs.hashtable.PyObjectHashTable.get_item\u001b[1;34m()\u001b[0m\n",
      "\u001b[1;31mKeyError\u001b[0m: 'nearest_roads'",
      "\nThe above exception was the direct cause of the following exception:\n",
      "\u001b[1;31mKeyError\u001b[0m                                  Traceback (most recent call last)",
      "\u001b[1;32m<ipython-input-13-407711590738>\u001b[0m in \u001b[0;36m<module>\u001b[1;34m\u001b[0m\n\u001b[0;32m      1\u001b[0m \u001b[0mplt\u001b[0m\u001b[1;33m.\u001b[0m\u001b[0mfigure\u001b[0m\u001b[1;33m(\u001b[0m\u001b[0mfigsize\u001b[0m \u001b[1;33m=\u001b[0m \u001b[1;33m(\u001b[0m\u001b[1;36m12\u001b[0m\u001b[1;33m,\u001b[0m\u001b[1;36m4\u001b[0m\u001b[1;33m)\u001b[0m\u001b[1;33m)\u001b[0m\u001b[1;33m\u001b[0m\u001b[1;33m\u001b[0m\u001b[0m\n\u001b[1;32m----> 2\u001b[1;33m \u001b[0mloc_meta\u001b[0m\u001b[1;33m.\u001b[0m\u001b[0mloc\u001b[0m\u001b[1;33m[\u001b[0m\u001b[0mloc_meta\u001b[0m\u001b[1;33m.\u001b[0m\u001b[0mexcLSTM\u001b[0m \u001b[1;33m==\u001b[0m \u001b[1;34m'MovAvg'\u001b[0m\u001b[1;33m]\u001b[0m\u001b[1;33m[\u001b[0m\u001b[1;34m'nearest_roads'\u001b[0m\u001b[1;33m]\u001b[0m\u001b[1;33m.\u001b[0m\u001b[0mhist\u001b[0m\u001b[1;33m(\u001b[0m\u001b[0mlabel\u001b[0m \u001b[1;33m=\u001b[0m \u001b[1;34m'MovAvg'\u001b[0m\u001b[1;33m,\u001b[0m \u001b[0mbins\u001b[0m \u001b[1;33m=\u001b[0m \u001b[1;36m20\u001b[0m\u001b[1;33m)\u001b[0m\u001b[1;33m\u001b[0m\u001b[1;33m\u001b[0m\u001b[0m\n\u001b[0m\u001b[0;32m      3\u001b[0m \u001b[0mplt\u001b[0m\u001b[1;33m.\u001b[0m\u001b[0mlegend\u001b[0m\u001b[1;33m(\u001b[0m\u001b[0mloc\u001b[0m \u001b[1;33m=\u001b[0m \u001b[1;34m'best'\u001b[0m\u001b[1;33m)\u001b[0m\u001b[1;33m\u001b[0m\u001b[1;33m\u001b[0m\u001b[0m\n",
      "\u001b[1;32mE:\\Anaconda3\\envs\\urbsim\\lib\\site-packages\\pandas\\core\\frame.py\u001b[0m in \u001b[0;36m__getitem__\u001b[1;34m(self, key)\u001b[0m\n\u001b[0;32m   3022\u001b[0m             \u001b[1;32mif\u001b[0m \u001b[0mself\u001b[0m\u001b[1;33m.\u001b[0m\u001b[0mcolumns\u001b[0m\u001b[1;33m.\u001b[0m\u001b[0mnlevels\u001b[0m \u001b[1;33m>\u001b[0m \u001b[1;36m1\u001b[0m\u001b[1;33m:\u001b[0m\u001b[1;33m\u001b[0m\u001b[1;33m\u001b[0m\u001b[0m\n\u001b[0;32m   3023\u001b[0m                 \u001b[1;32mreturn\u001b[0m \u001b[0mself\u001b[0m\u001b[1;33m.\u001b[0m\u001b[0m_getitem_multilevel\u001b[0m\u001b[1;33m(\u001b[0m\u001b[0mkey\u001b[0m\u001b[1;33m)\u001b[0m\u001b[1;33m\u001b[0m\u001b[1;33m\u001b[0m\u001b[0m\n\u001b[1;32m-> 3024\u001b[1;33m             \u001b[0mindexer\u001b[0m \u001b[1;33m=\u001b[0m \u001b[0mself\u001b[0m\u001b[1;33m.\u001b[0m\u001b[0mcolumns\u001b[0m\u001b[1;33m.\u001b[0m\u001b[0mget_loc\u001b[0m\u001b[1;33m(\u001b[0m\u001b[0mkey\u001b[0m\u001b[1;33m)\u001b[0m\u001b[1;33m\u001b[0m\u001b[1;33m\u001b[0m\u001b[0m\n\u001b[0m\u001b[0;32m   3025\u001b[0m             \u001b[1;32mif\u001b[0m \u001b[0mis_integer\u001b[0m\u001b[1;33m(\u001b[0m\u001b[0mindexer\u001b[0m\u001b[1;33m)\u001b[0m\u001b[1;33m:\u001b[0m\u001b[1;33m\u001b[0m\u001b[1;33m\u001b[0m\u001b[0m\n\u001b[0;32m   3026\u001b[0m                 \u001b[0mindexer\u001b[0m \u001b[1;33m=\u001b[0m \u001b[1;33m[\u001b[0m\u001b[0mindexer\u001b[0m\u001b[1;33m]\u001b[0m\u001b[1;33m\u001b[0m\u001b[1;33m\u001b[0m\u001b[0m\n",
      "\u001b[1;32mE:\\Anaconda3\\envs\\urbsim\\lib\\site-packages\\pandas\\core\\indexes\\base.py\u001b[0m in \u001b[0;36mget_loc\u001b[1;34m(self, key, method, tolerance)\u001b[0m\n\u001b[0;32m   3080\u001b[0m                 \u001b[1;32mreturn\u001b[0m \u001b[0mself\u001b[0m\u001b[1;33m.\u001b[0m\u001b[0m_engine\u001b[0m\u001b[1;33m.\u001b[0m\u001b[0mget_loc\u001b[0m\u001b[1;33m(\u001b[0m\u001b[0mcasted_key\u001b[0m\u001b[1;33m)\u001b[0m\u001b[1;33m\u001b[0m\u001b[1;33m\u001b[0m\u001b[0m\n\u001b[0;32m   3081\u001b[0m             \u001b[1;32mexcept\u001b[0m \u001b[0mKeyError\u001b[0m \u001b[1;32mas\u001b[0m \u001b[0merr\u001b[0m\u001b[1;33m:\u001b[0m\u001b[1;33m\u001b[0m\u001b[1;33m\u001b[0m\u001b[0m\n\u001b[1;32m-> 3082\u001b[1;33m                 \u001b[1;32mraise\u001b[0m \u001b[0mKeyError\u001b[0m\u001b[1;33m(\u001b[0m\u001b[0mkey\u001b[0m\u001b[1;33m)\u001b[0m \u001b[1;32mfrom\u001b[0m \u001b[0merr\u001b[0m\u001b[1;33m\u001b[0m\u001b[1;33m\u001b[0m\u001b[0m\n\u001b[0m\u001b[0;32m   3083\u001b[0m \u001b[1;33m\u001b[0m\u001b[0m\n\u001b[0;32m   3084\u001b[0m         \u001b[1;32mif\u001b[0m \u001b[0mtolerance\u001b[0m \u001b[1;32mis\u001b[0m \u001b[1;32mnot\u001b[0m \u001b[1;32mNone\u001b[0m\u001b[1;33m:\u001b[0m\u001b[1;33m\u001b[0m\u001b[1;33m\u001b[0m\u001b[0m\n",
      "\u001b[1;31mKeyError\u001b[0m: 'nearest_roads'"
     ]
    },
    {
     "data": {
      "text/plain": [
       "<Figure size 864x288 with 0 Axes>"
      ]
     },
     "metadata": {},
     "output_type": "display_data"
    }
   ],
   "source": [
    "plt.figure(figsize = (12,4))\n",
    "loc_meta.loc[loc_meta.excLSTM == 'MovAvg']['nearest_roads'].hist(label = 'MovAvg', bins = 20)\n",
    "plt.legend(loc = 'best')"
   ]
  },
  {
   "cell_type": "code",
   "execution_count": 33,
   "id": "grave-liberia",
   "metadata": {},
   "outputs": [
    {
     "data": {
      "text/plain": [
       "<matplotlib.legend.Legend at 0x1f9e81c9748>"
      ]
     },
     "execution_count": 33,
     "metadata": {},
     "output_type": "execute_result"
    },
    {
     "data": {
      "image/png": "[encoded data removed]",
      "text/plain": [
       "<Figure size 432x288 with 1 Axes>"
      ]
     },
     "metadata": {
      "needs_background": "light"
     },
     "output_type": "display_data"
    }
   ],
   "source": [
    "loc_meta.loc[loc_meta.excLSTM == 'HoltWinter']['nearest_roads'].hist(label = 'HoltWinter')\n",
    "plt.legend(loc = 'best')"
   ]
  },
  {
   "cell_type": "code",
   "execution_count": 47,
   "id": "black-inside",
   "metadata": {},
   "outputs": [
    {
     "data": {
      "text/plain": [
       "<matplotlib.legend.Legend at 0x1f9e8a19a88>"
      ]
     },
     "execution_count": 47,
     "metadata": {},
     "output_type": "execute_result"
    },
    {
     "data": {
      "image/png": "[encoded data removed]",
      "text/plain": [
       "<Figure size 432x288 with 1 Axes>"
      ]
     },
     "metadata": {
      "needs_background": "light"
     },
     "output_type": "display_data"
    }
   ],
   "source": [
    "loc_meta.loc[loc_meta.excLSTM == 'SARIMA']['nearest_roads'].hist(label = 'SARIMA', bins = 20)\n",
    "loc_meta.loc[loc_meta.excLSTM == 'MovAvg']['nearest_roads'].hist(label = 'MovAvg', bins = 20)\n",
    "loc_meta.loc[loc_meta.excLSTM == 'HoltWinter']['nearest_roads'].hist(label = 'HoltWinter')\n",
    "loc_meta.loc[loc_meta.excLSTM == 'Naive']['nearest_roads'].hist(label = 'Naive')\n",
    "plt.legend(loc = 'best')"
   ]
  },
  {
   "cell_type": "code",
   "execution_count": 35,
   "id": "entertaining-astrology",
   "metadata": {},
   "outputs": [
    {
     "data": {
      "text/plain": [
       "excLSTM\n",
       "              56\n",
       "HoltWinter    13\n",
       "MovAvg        35\n",
       "Naive          4\n",
       "SARIMA        16\n",
       "Name: nearest_roads, dtype: int64"
      ]
     },
     "execution_count": 35,
     "metadata": {},
     "output_type": "execute_result"
    }
   ],
   "source": [
    "loc_meta.groupby('excLSTM')['nearest_roads'].count()"
   ]
  },
  {
   "cell_type": "code",
   "execution_count": null,
   "id": "authorized-circulation",
   "metadata": {},
   "outputs": [],
   "source": [
    "fig,ax = plt.subplots()\n",
    "ax.bar(labels, men_means,width,yerr=men_std,label='Men')\n",
    "ax.bar(labels,women_means,width,yerr=women_std,bottom=men_means,label='Women')"
   ]
  },
  {
   "cell_type": "markdown",
   "id": "familiar-brisbane",
   "metadata": {},
   "source": [
    "### Combine Road Part 2 :"
   ]
  },
  {
   "cell_type": "code",
   "execution_count": 13,
   "id": "organized-eugene",
   "metadata": {},
   "outputs": [],
   "source": [
    "loc_A_Road = pd.read_csv('statistics2/dist_a_road.csv')\n",
    "loc_B_Road = pd.read_csv('statistics2/dist_b_road.csv')\n",
    "loc_Local_Access_Road = pd.read_csv('statistics2/dist_local_access_road.csv')\n",
    "loc_Local_Road = pd.read_csv('statistics2/dist_local_road.csv')\n",
    "loc_Minor_Road = pd.read_csv('statistics2/dist_minor_road.csv')\n",
    "loc_Motorway = pd.read_csv('statistics2/dist_motorway.csv')\n",
    "loc_Restricted_Local_Access_Road = pd.read_csv('statistics2/dist_restricted_local_access_road.csv')\n",
    "loc_Secondary_Access_Road = pd.read_csv('statistics2/dist_secondary_access_road.csv')"
   ]
  },
  {
   "cell_type": "code",
   "execution_count": 14,
   "id": "professional-trademark",
   "metadata": {},
   "outputs": [
    {
     "name": "stderr",
     "output_type": "stream",
     "text": [
      "E:\\Anaconda3\\envs\\urbsim\\lib\\site-packages\\ipykernel_launcher.py:1: SettingWithCopyWarning: \n",
      "A value is trying to be set on a copy of a slice from a DataFrame.\n",
      "Try using .loc[row_indexer,col_indexer] = value instead\n",
      "\n",
      "See the caveats in the documentation: https://pandas.pydata.org/pandas-docs/stable/user_guide/indexing.html#returning-a-view-versus-a-copy\n",
      "  \"\"\"Entry point for launching an IPython kernel.\n",
      "E:\\Anaconda3\\envs\\urbsim\\lib\\site-packages\\ipykernel_launcher.py:2: SettingWithCopyWarning: \n",
      "A value is trying to be set on a copy of a slice from a DataFrame.\n",
      "Try using .loc[row_indexer,col_indexer] = value instead\n",
      "\n",
      "See the caveats in the documentation: https://pandas.pydata.org/pandas-docs/stable/user_guide/indexing.html#returning-a-view-versus-a-copy\n",
      "  \n"
     ]
    }
   ],
   "source": [
    "loc_meta['dist_A'] = loc_A_Road['NEAR_DIST'] * 1000\n",
    "loc_meta['dist_B'] = loc_B_Road['NEAR_DIST'] * 1000\n",
    "loc_meta['dist_Minor'] = loc_Minor_Road['NEAR_DIST'] * 1000\n",
    "\n",
    "loc_meta['dist_Local'] = loc_Local_Road['NEAR_DIST'] * 1000\n",
    "loc_meta['dist_Local_Access'] = loc_Local_Access_Road['NEAR_DIST'] * 1000\n",
    "loc_meta['dist_Sec_Access'] = loc_Secondary_Access_Road['NEAR_DIST'] * 1000\n",
    "loc_meta['dist_Res_Local_Access'] = loc_Restricted_Local_Access_Road['NEAR_DIST'] * 1000\n",
    "\n",
    "loc_meta['dist_Motorway'] = loc_Motorway['NEAR_DIST'] * 1000"
   ]
  },
  {
   "cell_type": "code",
   "execution_count": 15,
   "id": "delayed-raleigh",
   "metadata": {},
   "outputs": [
    {
     "data": {
      "text/html": [
       "<div>\n",
       "<style scoped>\n",
       "    .dataframe tbody tr th:only-of-type {\n",
       "        vertical-align: middle;\n",
       "    }\n",
       "\n",
       "    .dataframe tbody tr th {\n",
       "        vertical-align: top;\n",
       "    }\n",
       "\n",
       "    .dataframe thead th {\n",
       "        text-align: right;\n",
       "    }\n",
       "</style>\n",
       "<table border=\"1\" class=\"dataframe\">\n",
       "  <thead>\n",
       "    <tr style=\"text-align: right;\">\n",
       "      <th></th>\n",
       "      <th>location</th>\n",
       "      <th>lat</th>\n",
       "      <th>lon</th>\n",
       "      <th>best</th>\n",
       "      <th>excLSTM</th>\n",
       "      <th>city</th>\n",
       "      <th>region</th>\n",
       "      <th>dist_A</th>\n",
       "      <th>dist_B</th>\n",
       "      <th>dist_Minor</th>\n",
       "      <th>dist_Local</th>\n",
       "      <th>dist_Local_Access</th>\n",
       "      <th>dist_Sec_Access</th>\n",
       "      <th>dist_Res_Local_Access</th>\n",
       "      <th>dist_Motorway</th>\n",
       "      <th>address</th>\n",
       "      <th>position</th>\n",
       "    </tr>\n",
       "  </thead>\n",
       "  <tbody>\n",
       "    <tr>\n",
       "      <th>0</th>\n",
       "      <td>5.0</td>\n",
       "      <td>51.49273</td>\n",
       "      <td>-0.22426</td>\n",
       "      <td>LSTM</td>\n",
       "      <td>MovAvg</td>\n",
       "      <td>London</td>\n",
       "      <td>Greater London</td>\n",
       "      <td>0.249989</td>\n",
       "      <td>8.183310</td>\n",
       "      <td>15.845292</td>\n",
       "      <td>0.343351</td>\n",
       "      <td>9.119249</td>\n",
       "      <td>7.121891</td>\n",
       "      <td>1.672632</td>\n",
       "      <td>52.418194</td>\n",
       "      <td>Unit 35, Hammersmith Broadway Shopping Centre,...</td>\n",
       "      <td>King Street entrance</td>\n",
       "    </tr>\n",
       "    <tr>\n",
       "      <th>1</th>\n",
       "      <td>6.0</td>\n",
       "      <td>51.49215</td>\n",
       "      <td>-0.22356</td>\n",
       "      <td>LSTM</td>\n",
       "      <td>MovAvg</td>\n",
       "      <td>London</td>\n",
       "      <td>Greater London</td>\n",
       "      <td>0.283125</td>\n",
       "      <td>8.971344</td>\n",
       "      <td>15.829665</td>\n",
       "      <td>0.085263</td>\n",
       "      <td>8.733550</td>\n",
       "      <td>6.263092</td>\n",
       "      <td>0.841378</td>\n",
       "      <td>53.081041</td>\n",
       "      <td>Unit 11, Hammersmith Broadway Shopping Centre,...</td>\n",
       "      <td>Hammersmith Underground Station - Talgarth Roa...</td>\n",
       "    </tr>\n",
       "    <tr>\n",
       "      <th>2</th>\n",
       "      <td>7.0</td>\n",
       "      <td>51.49171</td>\n",
       "      <td>-0.22361</td>\n",
       "      <td>NaN</td>\n",
       "      <td>MovAvg</td>\n",
       "      <td>London</td>\n",
       "      <td>Greater London</td>\n",
       "      <td>0.087891</td>\n",
       "      <td>9.018724</td>\n",
       "      <td>15.868603</td>\n",
       "      <td>0.333934</td>\n",
       "      <td>8.434502</td>\n",
       "      <td>5.912387</td>\n",
       "      <td>0.958705</td>\n",
       "      <td>53.008327</td>\n",
       "      <td>Unit 13-16, Hammersmith Broadway Shopping Cent...</td>\n",
       "      <td>Talgarth Road entrance</td>\n",
       "    </tr>\n",
       "    <tr>\n",
       "      <th>3</th>\n",
       "      <td>31.0</td>\n",
       "      <td>53.95737</td>\n",
       "      <td>-1.07965</td>\n",
       "      <td>LSTM</td>\n",
       "      <td>SARIMA</td>\n",
       "      <td>York</td>\n",
       "      <td>Yorkshire and the Humber</td>\n",
       "      <td>3.247845</td>\n",
       "      <td>0.553040</td>\n",
       "      <td>5.278809</td>\n",
       "      <td>0.121614</td>\n",
       "      <td>0.236689</td>\n",
       "      <td>4.025079</td>\n",
       "      <td>1.635080</td>\n",
       "      <td>266.975816</td>\n",
       "      <td>Unit 3, Coppergate Shopping Centre, St. Marys ...</td>\n",
       "      <td>Topshop</td>\n",
       "    </tr>\n",
       "    <tr>\n",
       "      <th>4</th>\n",
       "      <td>62.0</td>\n",
       "      <td>51.49226</td>\n",
       "      <td>-0.22374</td>\n",
       "      <td>NaN</td>\n",
       "      <td>MovAvg</td>\n",
       "      <td>London</td>\n",
       "      <td>Greater London</td>\n",
       "      <td>0.154238</td>\n",
       "      <td>8.773683</td>\n",
       "      <td>15.859061</td>\n",
       "      <td>0.231139</td>\n",
       "      <td>8.933722</td>\n",
       "      <td>6.448961</td>\n",
       "      <td>1.034977</td>\n",
       "      <td>52.907605</td>\n",
       "      <td>Unit 9, Hammersmith Broadway Shopping Centre, ...</td>\n",
       "      <td>Bus station link corridor</td>\n",
       "    </tr>\n",
       "    <tr>\n",
       "      <th>...</th>\n",
       "      <td>...</td>\n",
       "      <td>...</td>\n",
       "      <td>...</td>\n",
       "      <td>...</td>\n",
       "      <td>...</td>\n",
       "      <td>...</td>\n",
       "      <td>...</td>\n",
       "      <td>...</td>\n",
       "      <td>...</td>\n",
       "      <td>...</td>\n",
       "      <td>...</td>\n",
       "      <td>...</td>\n",
       "      <td>...</td>\n",
       "      <td>...</td>\n",
       "      <td>...</td>\n",
       "      <td>...</td>\n",
       "      <td>...</td>\n",
       "    </tr>\n",
       "    <tr>\n",
       "      <th>308</th>\n",
       "      <td>1165.0</td>\n",
       "      <td>51.23186</td>\n",
       "      <td>-0.33629</td>\n",
       "      <td>NaN</td>\n",
       "      <td>NaN</td>\n",
       "      <td>Dorking</td>\n",
       "      <td>South East</td>\n",
       "      <td>0.706797</td>\n",
       "      <td>18.399462</td>\n",
       "      <td>2.462160</td>\n",
       "      <td>0.710049</td>\n",
       "      <td>4.234687</td>\n",
       "      <td>1.240187</td>\n",
       "      <td>0.349980</td>\n",
       "      <td>69.181865</td>\n",
       "      <td>40 West Street, Dorking, RH4 1BU, South East</td>\n",
       "      <td>NaN</td>\n",
       "    </tr>\n",
       "    <tr>\n",
       "      <th>309</th>\n",
       "      <td>1119.0</td>\n",
       "      <td>53.37705</td>\n",
       "      <td>-1.47288</td>\n",
       "      <td>LSTM</td>\n",
       "      <td>MovAvg</td>\n",
       "      <td>Sheffield</td>\n",
       "      <td>Yorkshire and the Humber</td>\n",
       "      <td>4.399493</td>\n",
       "      <td>4.511111</td>\n",
       "      <td>0.104293</td>\n",
       "      <td>0.342072</td>\n",
       "      <td>3.950180</td>\n",
       "      <td>4.153272</td>\n",
       "      <td>1.147149</td>\n",
       "      <td>73.129669</td>\n",
       "      <td>26-28 The Moor, Sheffield, S1 4PA, Yorkshire a...</td>\n",
       "      <td>NaN</td>\n",
       "    </tr>\n",
       "    <tr>\n",
       "      <th>310</th>\n",
       "      <td>1166.0</td>\n",
       "      <td>51.49683</td>\n",
       "      <td>-0.13995</td>\n",
       "      <td>NaN</td>\n",
       "      <td>NaN</td>\n",
       "      <td>London</td>\n",
       "      <td>Greater London</td>\n",
       "      <td>0.390717</td>\n",
       "      <td>2.756812</td>\n",
       "      <td>5.359857</td>\n",
       "      <td>0.872419</td>\n",
       "      <td>2.018043</td>\n",
       "      <td>7.524002</td>\n",
       "      <td>1.407306</td>\n",
       "      <td>114.100603</td>\n",
       "      <td>149-151 Victoria Street, London, SW1E 5NH, Gre...</td>\n",
       "      <td>NaN</td>\n",
       "    </tr>\n",
       "    <tr>\n",
       "      <th>311</th>\n",
       "      <td>1167.0</td>\n",
       "      <td>52.95720</td>\n",
       "      <td>-1.14727</td>\n",
       "      <td>NaN</td>\n",
       "      <td>NaN</td>\n",
       "      <td>Nottingham</td>\n",
       "      <td>East Midlands</td>\n",
       "      <td>0.046799</td>\n",
       "      <td>2.082259</td>\n",
       "      <td>2.395461</td>\n",
       "      <td>0.240229</td>\n",
       "      <td>1.085291</td>\n",
       "      <td>8.509200</td>\n",
       "      <td>3.145691</td>\n",
       "      <td>90.415061</td>\n",
       "      <td>Unit LM08, Intu Victoria Centre, Victoria Cent...</td>\n",
       "      <td>NaN</td>\n",
       "    </tr>\n",
       "    <tr>\n",
       "      <th>312</th>\n",
       "      <td>1168.0</td>\n",
       "      <td>51.89219</td>\n",
       "      <td>-1.15544</td>\n",
       "      <td>NaN</td>\n",
       "      <td>NaN</td>\n",
       "      <td>Bicester</td>\n",
       "      <td>South East</td>\n",
       "      <td>1.210855</td>\n",
       "      <td>6.397829</td>\n",
       "      <td>3.805369</td>\n",
       "      <td>0.457576</td>\n",
       "      <td>3.913124</td>\n",
       "      <td>6.151047</td>\n",
       "      <td>3.014384</td>\n",
       "      <td>42.768348</td>\n",
       "      <td>Bicester Village, 1b Pingle Drive, Bicester, O...</td>\n",
       "      <td>NaN</td>\n",
       "    </tr>\n",
       "  </tbody>\n",
       "</table>\n",
       "<p>313 rows × 17 columns</p>\n",
       "</div>"
      ],
      "text/plain": [
       "     location       lat      lon  best excLSTM        city  \\\n",
       "0         5.0  51.49273 -0.22426  LSTM  MovAvg      London   \n",
       "1         6.0  51.49215 -0.22356  LSTM  MovAvg      London   \n",
       "2         7.0  51.49171 -0.22361   NaN  MovAvg      London   \n",
       "3        31.0  53.95737 -1.07965  LSTM  SARIMA        York   \n",
       "4        62.0  51.49226 -0.22374   NaN  MovAvg      London   \n",
       "..        ...       ...      ...   ...     ...         ...   \n",
       "308    1165.0  51.23186 -0.33629   NaN     NaN     Dorking   \n",
       "309    1119.0  53.37705 -1.47288  LSTM  MovAvg   Sheffield   \n",
       "310    1166.0  51.49683 -0.13995   NaN     NaN      London   \n",
       "311    1167.0  52.95720 -1.14727   NaN     NaN  Nottingham   \n",
       "312    1168.0  51.89219 -1.15544   NaN     NaN    Bicester   \n",
       "\n",
       "                       region    dist_A     dist_B  dist_Minor  dist_Local  \\\n",
       "0              Greater London  0.249989   8.183310   15.845292    0.343351   \n",
       "1              Greater London  0.283125   8.971344   15.829665    0.085263   \n",
       "2              Greater London  0.087891   9.018724   15.868603    0.333934   \n",
       "3    Yorkshire and the Humber  3.247845   0.553040    5.278809    0.121614   \n",
       "4              Greater London  0.154238   8.773683   15.859061    0.231139   \n",
       "..                        ...       ...        ...         ...         ...   \n",
       "308                South East  0.706797  18.399462    2.462160    0.710049   \n",
       "309  Yorkshire and the Humber  4.399493   4.511111    0.104293    0.342072   \n",
       "310            Greater London  0.390717   2.756812    5.359857    0.872419   \n",
       "311             East Midlands  0.046799   2.082259    2.395461    0.240229   \n",
       "312                South East  1.210855   6.397829    3.805369    0.457576   \n",
       "\n",
       "     dist_Local_Access  dist_Sec_Access  dist_Res_Local_Access  dist_Motorway  \\\n",
       "0             9.119249         7.121891               1.672632      52.418194   \n",
       "1             8.733550         6.263092               0.841378      53.081041   \n",
       "2             8.434502         5.912387               0.958705      53.008327   \n",
       "3             0.236689         4.025079               1.635080     266.975816   \n",
       "4             8.933722         6.448961               1.034977      52.907605   \n",
       "..                 ...              ...                    ...            ...   \n",
       "308           4.234687         1.240187               0.349980      69.181865   \n",
       "309           3.950180         4.153272               1.147149      73.129669   \n",
       "310           2.018043         7.524002               1.407306     114.100603   \n",
       "311           1.085291         8.509200               3.145691      90.415061   \n",
       "312           3.913124         6.151047               3.014384      42.768348   \n",
       "\n",
       "                                               address  \\\n",
       "0    Unit 35, Hammersmith Broadway Shopping Centre,...   \n",
       "1    Unit 11, Hammersmith Broadway Shopping Centre,...   \n",
       "2    Unit 13-16, Hammersmith Broadway Shopping Cent...   \n",
       "3    Unit 3, Coppergate Shopping Centre, St. Marys ...   \n",
       "4    Unit 9, Hammersmith Broadway Shopping Centre, ...   \n",
       "..                                                 ...   \n",
       "308       40 West Street, Dorking, RH4 1BU, South East   \n",
       "309  26-28 The Moor, Sheffield, S1 4PA, Yorkshire a...   \n",
       "310  149-151 Victoria Street, London, SW1E 5NH, Gre...   \n",
       "311  Unit LM08, Intu Victoria Centre, Victoria Cent...   \n",
       "312  Bicester Village, 1b Pingle Drive, Bicester, O...   \n",
       "\n",
       "                                              position  \n",
       "0                                 King Street entrance  \n",
       "1    Hammersmith Underground Station - Talgarth Roa...  \n",
       "2                               Talgarth Road entrance  \n",
       "3                                              Topshop  \n",
       "4                            Bus station link corridor  \n",
       "..                                                 ...  \n",
       "308                                                NaN  \n",
       "309                                                NaN  \n",
       "310                                                NaN  \n",
       "311                                                NaN  \n",
       "312                                                NaN  \n",
       "\n",
       "[313 rows x 17 columns]"
      ]
     },
     "execution_count": 15,
     "metadata": {},
     "output_type": "execute_result"
    }
   ],
   "source": [
    "loc_roads = loc_meta\n",
    "loc_roads[['best','excLSTM']] = meta_loc[['best','excLSTM']]\n",
    "loc_roads = pd.merge(loc_roads,meta_loc[['location','address','position']], how = 'left', on = 'location')\n",
    "loc_roads = loc_roads.drop_duplicates()\n",
    "loc_roads"
   ]
  },
  {
   "cell_type": "code",
   "execution_count": 16,
   "id": "proper-cyprus",
   "metadata": {},
   "outputs": [],
   "source": [
    "loc_roads.to_csv('loc_roads.csv')"
   ]
  },
  {
   "cell_type": "code",
   "execution_count": 28,
   "id": "collaborative-amber",
   "metadata": {},
   "outputs": [
    {
     "ename": "KeyError",
     "evalue": "'nearest_roads'",
     "output_type": "error",
     "traceback": [
      "\u001b[1;31m---------------------------------------------------------------------------\u001b[0m",
      "\u001b[1;31mKeyError\u001b[0m                                  Traceback (most recent call last)",
      "\u001b[1;32mE:\\Anaconda3\\envs\\urbsim\\lib\\site-packages\\pandas\\core\\indexes\\base.py\u001b[0m in \u001b[0;36mget_loc\u001b[1;34m(self, key, method, tolerance)\u001b[0m\n\u001b[0;32m   3079\u001b[0m             \u001b[1;32mtry\u001b[0m\u001b[1;33m:\u001b[0m\u001b[1;33m\u001b[0m\u001b[1;33m\u001b[0m\u001b[0m\n\u001b[1;32m-> 3080\u001b[1;33m                 \u001b[1;32mreturn\u001b[0m \u001b[0mself\u001b[0m\u001b[1;33m.\u001b[0m\u001b[0m_engine\u001b[0m\u001b[1;33m.\u001b[0m\u001b[0mget_loc\u001b[0m\u001b[1;33m(\u001b[0m\u001b[0mcasted_key\u001b[0m\u001b[1;33m)\u001b[0m\u001b[1;33m\u001b[0m\u001b[1;33m\u001b[0m\u001b[0m\n\u001b[0m\u001b[0;32m   3081\u001b[0m             \u001b[1;32mexcept\u001b[0m \u001b[0mKeyError\u001b[0m \u001b[1;32mas\u001b[0m \u001b[0merr\u001b[0m\u001b[1;33m:\u001b[0m\u001b[1;33m\u001b[0m\u001b[1;33m\u001b[0m\u001b[0m\n",
      "\u001b[1;32mpandas\\_libs\\index.pyx\u001b[0m in \u001b[0;36mpandas._libs.index.IndexEngine.get_loc\u001b[1;34m()\u001b[0m\n",
      "\u001b[1;32mpandas\\_libs\\index.pyx\u001b[0m in \u001b[0;36mpandas._libs.index.IndexEngine.get_loc\u001b[1;34m()\u001b[0m\n",
      "\u001b[1;32mpandas\\_libs\\hashtable_class_helper.pxi\u001b[0m in \u001b[0;36mpandas._libs.hashtable.PyObjectHashTable.get_item\u001b[1;34m()\u001b[0m\n",
      "\u001b[1;32mpandas\\_libs\\hashtable_class_helper.pxi\u001b[0m in \u001b[0;36mpandas._libs.hashtable.PyObjectHashTable.get_item\u001b[1;34m()\u001b[0m\n",
      "\u001b[1;31mKeyError\u001b[0m: 'nearest_roads'",
      "\nThe above exception was the direct cause of the following exception:\n",
      "\u001b[1;31mKeyError\u001b[0m                                  Traceback (most recent call last)",
      "\u001b[1;32m<ipython-input-28-d260be6a0282>\u001b[0m in \u001b[0;36m<module>\u001b[1;34m\u001b[0m\n\u001b[0;32m      1\u001b[0m \u001b[0mfig\u001b[0m\u001b[1;33m,\u001b[0m\u001b[0maxs\u001b[0m \u001b[1;33m=\u001b[0m \u001b[0mplt\u001b[0m\u001b[1;33m.\u001b[0m\u001b[0msubplots\u001b[0m\u001b[1;33m(\u001b[0m\u001b[1;36m2\u001b[0m\u001b[1;33m,\u001b[0m\u001b[1;36m2\u001b[0m\u001b[1;33m)\u001b[0m\u001b[1;33m\u001b[0m\u001b[1;33m\u001b[0m\u001b[0m\n\u001b[1;32m----> 2\u001b[1;33m \u001b[0mloc_meta\u001b[0m\u001b[1;33m.\u001b[0m\u001b[0mloc\u001b[0m\u001b[1;33m[\u001b[0m\u001b[0mloc_meta\u001b[0m\u001b[1;33m.\u001b[0m\u001b[0mexcLSTM\u001b[0m \u001b[1;33m==\u001b[0m \u001b[1;34m'SARIMA'\u001b[0m\u001b[1;33m]\u001b[0m\u001b[1;33m[\u001b[0m\u001b[1;34m'nearest_roads'\u001b[0m\u001b[1;33m]\u001b[0m\u001b[1;33m.\u001b[0m\u001b[0mhist\u001b[0m\u001b[1;33m(\u001b[0m\u001b[0mfigsize\u001b[0m \u001b[1;33m=\u001b[0m \u001b[1;33m(\u001b[0m\u001b[1;36m18\u001b[0m\u001b[1;33m,\u001b[0m\u001b[1;36m6\u001b[0m\u001b[1;33m)\u001b[0m\u001b[1;33m,\u001b[0m \u001b[0mlabel\u001b[0m \u001b[1;33m=\u001b[0m \u001b[1;34m'SARIMA'\u001b[0m\u001b[1;33m,\u001b[0m \u001b[0mbins\u001b[0m \u001b[1;33m=\u001b[0m \u001b[1;36m20\u001b[0m\u001b[1;33m,\u001b[0m \u001b[0max\u001b[0m \u001b[1;33m=\u001b[0m \u001b[0maxs\u001b[0m\u001b[1;33m[\u001b[0m\u001b[1;33m(\u001b[0m\u001b[1;36m0\u001b[0m\u001b[1;33m,\u001b[0m\u001b[1;36m0\u001b[0m\u001b[1;33m)\u001b[0m\u001b[1;33m]\u001b[0m\u001b[1;33m)\u001b[0m\u001b[1;33m\u001b[0m\u001b[1;33m\u001b[0m\u001b[0m\n\u001b[0m\u001b[0;32m      3\u001b[0m \u001b[0mloc_meta\u001b[0m\u001b[1;33m.\u001b[0m\u001b[0mloc\u001b[0m\u001b[1;33m[\u001b[0m\u001b[0mloc_meta\u001b[0m\u001b[1;33m.\u001b[0m\u001b[0mexcLSTM\u001b[0m \u001b[1;33m==\u001b[0m \u001b[1;34m'MovAvg'\u001b[0m\u001b[1;33m]\u001b[0m\u001b[1;33m[\u001b[0m\u001b[1;34m'nearest_roads'\u001b[0m\u001b[1;33m]\u001b[0m\u001b[1;33m.\u001b[0m\u001b[0mhist\u001b[0m\u001b[1;33m(\u001b[0m\u001b[0mlabel\u001b[0m \u001b[1;33m=\u001b[0m \u001b[1;34m'MovAvg'\u001b[0m\u001b[1;33m,\u001b[0m \u001b[0mbins\u001b[0m \u001b[1;33m=\u001b[0m \u001b[1;36m20\u001b[0m\u001b[1;33m,\u001b[0m \u001b[0max\u001b[0m \u001b[1;33m=\u001b[0m \u001b[0maxs\u001b[0m\u001b[1;33m[\u001b[0m\u001b[1;33m(\u001b[0m\u001b[1;36m0\u001b[0m\u001b[1;33m,\u001b[0m\u001b[1;36m1\u001b[0m\u001b[1;33m)\u001b[0m\u001b[1;33m]\u001b[0m\u001b[1;33m)\u001b[0m\u001b[1;33m\u001b[0m\u001b[1;33m\u001b[0m\u001b[0m\n\u001b[0;32m      4\u001b[0m \u001b[0mloc_meta\u001b[0m\u001b[1;33m.\u001b[0m\u001b[0mloc\u001b[0m\u001b[1;33m[\u001b[0m\u001b[0mloc_meta\u001b[0m\u001b[1;33m.\u001b[0m\u001b[0mexcLSTM\u001b[0m \u001b[1;33m==\u001b[0m \u001b[1;34m'HoltWinter'\u001b[0m\u001b[1;33m]\u001b[0m\u001b[1;33m[\u001b[0m\u001b[1;34m'nearest_roads'\u001b[0m\u001b[1;33m]\u001b[0m\u001b[1;33m.\u001b[0m\u001b[0mhist\u001b[0m\u001b[1;33m(\u001b[0m\u001b[0mlabel\u001b[0m \u001b[1;33m=\u001b[0m \u001b[1;34m'HoltWinter'\u001b[0m\u001b[1;33m,\u001b[0m\u001b[0mbins\u001b[0m \u001b[1;33m=\u001b[0m \u001b[1;36m20\u001b[0m\u001b[1;33m,\u001b[0m \u001b[0max\u001b[0m \u001b[1;33m=\u001b[0m \u001b[0maxs\u001b[0m\u001b[1;33m[\u001b[0m\u001b[1;33m(\u001b[0m\u001b[1;36m1\u001b[0m\u001b[1;33m,\u001b[0m\u001b[1;36m0\u001b[0m\u001b[1;33m)\u001b[0m\u001b[1;33m]\u001b[0m\u001b[1;33m)\u001b[0m\u001b[1;33m\u001b[0m\u001b[1;33m\u001b[0m\u001b[0m\n\u001b[0;32m      5\u001b[0m \u001b[0mloc_meta\u001b[0m\u001b[1;33m.\u001b[0m\u001b[0mloc\u001b[0m\u001b[1;33m[\u001b[0m\u001b[0mloc_meta\u001b[0m\u001b[1;33m.\u001b[0m\u001b[0mexcLSTM\u001b[0m \u001b[1;33m==\u001b[0m \u001b[1;34m'Naive'\u001b[0m\u001b[1;33m]\u001b[0m\u001b[1;33m[\u001b[0m\u001b[1;34m'nearest_roads'\u001b[0m\u001b[1;33m]\u001b[0m\u001b[1;33m.\u001b[0m\u001b[0mhist\u001b[0m\u001b[1;33m(\u001b[0m\u001b[0mlabel\u001b[0m \u001b[1;33m=\u001b[0m \u001b[1;34m'Naive'\u001b[0m\u001b[1;33m,\u001b[0m\u001b[0mbins\u001b[0m \u001b[1;33m=\u001b[0m \u001b[1;36m20\u001b[0m\u001b[1;33m,\u001b[0m \u001b[0max\u001b[0m \u001b[1;33m=\u001b[0m \u001b[0maxs\u001b[0m\u001b[1;33m[\u001b[0m\u001b[1;33m(\u001b[0m\u001b[1;36m1\u001b[0m\u001b[1;33m,\u001b[0m\u001b[1;36m1\u001b[0m\u001b[1;33m)\u001b[0m\u001b[1;33m]\u001b[0m\u001b[1;33m)\u001b[0m\u001b[1;33m\u001b[0m\u001b[1;33m\u001b[0m\u001b[0m\n",
      "\u001b[1;32mE:\\Anaconda3\\envs\\urbsim\\lib\\site-packages\\pandas\\core\\frame.py\u001b[0m in \u001b[0;36m__getitem__\u001b[1;34m(self, key)\u001b[0m\n\u001b[0;32m   3022\u001b[0m             \u001b[1;32mif\u001b[0m \u001b[0mself\u001b[0m\u001b[1;33m.\u001b[0m\u001b[0mcolumns\u001b[0m\u001b[1;33m.\u001b[0m\u001b[0mnlevels\u001b[0m \u001b[1;33m>\u001b[0m \u001b[1;36m1\u001b[0m\u001b[1;33m:\u001b[0m\u001b[1;33m\u001b[0m\u001b[1;33m\u001b[0m\u001b[0m\n\u001b[0;32m   3023\u001b[0m                 \u001b[1;32mreturn\u001b[0m \u001b[0mself\u001b[0m\u001b[1;33m.\u001b[0m\u001b[0m_getitem_multilevel\u001b[0m\u001b[1;33m(\u001b[0m\u001b[0mkey\u001b[0m\u001b[1;33m)\u001b[0m\u001b[1;33m\u001b[0m\u001b[1;33m\u001b[0m\u001b[0m\n\u001b[1;32m-> 3024\u001b[1;33m             \u001b[0mindexer\u001b[0m \u001b[1;33m=\u001b[0m \u001b[0mself\u001b[0m\u001b[1;33m.\u001b[0m\u001b[0mcolumns\u001b[0m\u001b[1;33m.\u001b[0m\u001b[0mget_loc\u001b[0m\u001b[1;33m(\u001b[0m\u001b[0mkey\u001b[0m\u001b[1;33m)\u001b[0m\u001b[1;33m\u001b[0m\u001b[1;33m\u001b[0m\u001b[0m\n\u001b[0m\u001b[0;32m   3025\u001b[0m             \u001b[1;32mif\u001b[0m \u001b[0mis_integer\u001b[0m\u001b[1;33m(\u001b[0m\u001b[0mindexer\u001b[0m\u001b[1;33m)\u001b[0m\u001b[1;33m:\u001b[0m\u001b[1;33m\u001b[0m\u001b[1;33m\u001b[0m\u001b[0m\n\u001b[0;32m   3026\u001b[0m                 \u001b[0mindexer\u001b[0m \u001b[1;33m=\u001b[0m \u001b[1;33m[\u001b[0m\u001b[0mindexer\u001b[0m\u001b[1;33m]\u001b[0m\u001b[1;33m\u001b[0m\u001b[1;33m\u001b[0m\u001b[0m\n",
      "\u001b[1;32mE:\\Anaconda3\\envs\\urbsim\\lib\\site-packages\\pandas\\core\\indexes\\base.py\u001b[0m in \u001b[0;36mget_loc\u001b[1;34m(self, key, method, tolerance)\u001b[0m\n\u001b[0;32m   3080\u001b[0m                 \u001b[1;32mreturn\u001b[0m \u001b[0mself\u001b[0m\u001b[1;33m.\u001b[0m\u001b[0m_engine\u001b[0m\u001b[1;33m.\u001b[0m\u001b[0mget_loc\u001b[0m\u001b[1;33m(\u001b[0m\u001b[0mcasted_key\u001b[0m\u001b[1;33m)\u001b[0m\u001b[1;33m\u001b[0m\u001b[1;33m\u001b[0m\u001b[0m\n\u001b[0;32m   3081\u001b[0m             \u001b[1;32mexcept\u001b[0m \u001b[0mKeyError\u001b[0m \u001b[1;32mas\u001b[0m \u001b[0merr\u001b[0m\u001b[1;33m:\u001b[0m\u001b[1;33m\u001b[0m\u001b[1;33m\u001b[0m\u001b[0m\n\u001b[1;32m-> 3082\u001b[1;33m                 \u001b[1;32mraise\u001b[0m \u001b[0mKeyError\u001b[0m\u001b[1;33m(\u001b[0m\u001b[0mkey\u001b[0m\u001b[1;33m)\u001b[0m \u001b[1;32mfrom\u001b[0m \u001b[0merr\u001b[0m\u001b[1;33m\u001b[0m\u001b[1;33m\u001b[0m\u001b[0m\n\u001b[0m\u001b[0;32m   3083\u001b[0m \u001b[1;33m\u001b[0m\u001b[0m\n\u001b[0;32m   3084\u001b[0m         \u001b[1;32mif\u001b[0m \u001b[0mtolerance\u001b[0m \u001b[1;32mis\u001b[0m \u001b[1;32mnot\u001b[0m \u001b[1;32mNone\u001b[0m\u001b[1;33m:\u001b[0m\u001b[1;33m\u001b[0m\u001b[1;33m\u001b[0m\u001b[0m\n",
      "\u001b[1;31mKeyError\u001b[0m: 'nearest_roads'"
     ]
    },
    {
     "data": {
      "image/png": "[encoded data removed]",
      "text/plain": [
       "<Figure size 432x288 with 4 Axes>"
      ]
     },
     "metadata": {
      "needs_background": "light"
     },
     "output_type": "display_data"
    }
   ],
   "source": [
    "fig,axs = plt.subplots(2,2)\n",
    "\n",
    "loc_meta.loc[loc_meta.excLSTM == 'SARIMA']['nearest_roads'].hist(figsize = (18,6), label = 'SARIMA', bins = 20, ax = axs[(0,0)])\n",
    "loc_meta.loc[loc_meta.excLSTM == 'MovAvg']['nearest_roads'].hist(label = 'MovAvg', bins = 20, ax = axs[(0,1)])\n",
    "loc_meta.loc[loc_meta.excLSTM == 'HoltWinter']['nearest_roads'].hist(label = 'HoltWinter',bins = 20, ax = axs[(1,0)])\n",
    "loc_meta.loc[loc_meta.excLSTM == 'Naive']['nearest_roads'].hist(label = 'Naive',bins = 20, ax = axs[(1,1)])\n",
    "\n",
    "plt.legend(loc = 'best')"
   ]
  },
  {
   "cell_type": "code",
   "execution_count": 17,
   "id": "revised-shark",
   "metadata": {},
   "outputs": [],
   "source": [
    "col = ['excLSTM', 'dist_A', 'dist_B', 'dist_Minor', 'dist_Local', 'dist_Local_Access', 'dist_Sec_Access', \n",
    "       'dist_Res_Local_Access' ,'dist_Motorway']"
   ]
  },
  {
   "cell_type": "code",
   "execution_count": 18,
   "id": "golden-inquiry",
   "metadata": {},
   "outputs": [],
   "source": [
    "col2 = ['best', 'dist_A', 'dist_B', 'dist_Minor', 'dist_Local', 'dist_Local_Access', 'dist_Sec_Access', \n",
    "       'dist_Res_Local_Access' ,'dist_Motorway']"
   ]
  },
  {
   "cell_type": "code",
   "execution_count": 19,
   "id": "headed-expert",
   "metadata": {},
   "outputs": [],
   "source": [
    "loc_roads = loc_roads.loc[(loc_roads.location != 1124) & (loc_roads.location != 1105)]"
   ]
  },
  {
   "cell_type": "code",
   "execution_count": 104,
   "id": "preliminary-windows",
   "metadata": {},
   "outputs": [
    {
     "data": {
      "image/png": "[encoded data removed]",
      "text/plain": [
       "<Figure size 864x288 with 8 Axes>"
      ]
     },
     "metadata": {},
     "output_type": "display_data"
    }
   ],
   "source": [
    "fig,axs = plt.subplots(2,4)\n",
    "\n",
    "loc_roads[col2].groupby('best').mean()['dist_A']\\\n",
    ".plot(figsize=(12,4),title = 'A Road', kind='bar',ax = axs[(0,0)]).xaxis.set_visible(False)\n",
    "\n",
    "loc_roads[col2].groupby('best').mean()['dist_B']\\\n",
    ".plot(kind='bar',title = 'B Road',ax = axs[(0,1)]).xaxis.set_visible(False)\n",
    "\n",
    "loc_roads[col2].groupby('best').mean()['dist_Minor']\\\n",
    ".plot(kind='bar',title = 'Minor Road',ax = axs[(0,2)]).xaxis.set_visible(False)\n",
    "\n",
    "loc_roads[col2].groupby('best').mean()['dist_Local']\\\n",
    ".plot(kind='bar',title = 'Local Road',ax = axs[(0,3)]).xaxis.set_visible(False)\n",
    "\n",
    "loc_roads[col2].groupby('best').mean()['dist_Local_Access']\\\n",
    ".plot(kind='bar',title = 'Local Access',ax = axs[(1,0)])\n",
    "\n",
    "loc_roads[col2].groupby('best').mean()['dist_Sec_Access']\\\n",
    ".plot(kind='bar',title = 'Secondary Access',ax = axs[(1,1)])\n",
    "\n",
    "loc_roads[col2].groupby('best').mean()['dist_Res_Local_Access']\\\n",
    ".plot(kind='bar',title = 'Restricted Local Access',ax = axs[(1,2)])\n",
    "\n",
    "loc_roads[col2].groupby('best').mean()['dist_Motorway']\\\n",
    ".plot(kind='bar',title = 'Motorway',ax = axs[(1,3)], )\n",
    "\n",
    "plt.style.use('default')\n",
    "plt.show()"
   ]
  },
  {
   "cell_type": "code",
   "execution_count": 111,
   "id": "imposed-romance",
   "metadata": {},
   "outputs": [
    {
     "data": {
      "image/png": "[encoded data removed]",
      "text/plain": [
       "<Figure size 1200x400 with 8 Axes>"
      ]
     },
     "metadata": {},
     "output_type": "display_data"
    }
   ],
   "source": [
    "fig,axs = plt.subplots(2,4)\n",
    "\n",
    "loc_roads[col2].groupby('best').mean()['dist_A']\\\n",
    ".plot(figsize=(12,4),title = 'A Road', kind='bar',ax = axs[(0,0)]).set_xticklabels(['']*5)\n",
    "axs[(0,0)].set_xlabel('')\n",
    "\n",
    "loc_roads[col2].groupby('best').mean()['dist_B']\\\n",
    ".plot(kind='bar',title = 'B Road',ax = axs[(0,1)]).set_xticklabels(['']*5)\n",
    "axs[(0,1)].set_xlabel('')\n",
    "\n",
    "loc_roads[col2].groupby('best').mean()['dist_Minor']\\\n",
    ".plot(kind='bar',title = 'Minor Road',ax = axs[(0,2)]).set_xticklabels(['']*5)\n",
    "axs[(0,2)].set_xlabel('')\n",
    "\n",
    "loc_roads[col2].groupby('best').mean()['dist_Local']\\\n",
    ".plot(kind='bar',title = 'Local Road',ax = axs[(0,3)]).set_xticklabels(['']*5)\n",
    "axs[(0,3)].set_xlabel('')\n",
    "\n",
    "loc_roads[col2].groupby('best').mean()['dist_Local_Access']\\\n",
    ".plot(kind='bar',title = 'Local Access Road',ax = axs[(1,0)]).set_xlabel('')\n",
    "\n",
    "loc_roads[col2].groupby('best').mean()['dist_Sec_Access']\\\n",
    ".plot(kind='bar',title = 'Secondary Access Road',ax = axs[(1,1)]).set_xlabel('')\n",
    "\n",
    "loc_roads[col2].groupby('best').mean()['dist_Res_Local_Access']\\\n",
    ".plot(kind='bar',title = 'Restricted Local Access Road',ax = axs[(1,2)]).set_xlabel('')\n",
    "\n",
    "loc_roads[col2].groupby('best').mean()['dist_Motorway']\\\n",
    ".plot(kind='bar',title = 'Motorway',ax = axs[(1,3)], ).set_xlabel('')\n",
    "axs[(1,0)].set_xticklabels(axs[(1,0)].get_xticklabels(), rotation=30, ha='right')\n",
    "axs[(1,1)].set_xticklabels(axs[(1,1)].get_xticklabels(), rotation=30, ha='right')\n",
    "axs[(1,2)].set_xticklabels(axs[(1,2)].get_xticklabels(), rotation=30, ha='right')\n",
    "axs[(1,3)].set_xticklabels(axs[(1,3)].get_xticklabels(), rotation=30, ha='right')\n",
    "plt.style.use('seaborn')\n",
    "plt.show()"
   ]
  },
  {
   "cell_type": "code",
   "execution_count": 110,
   "id": "japanese-contamination",
   "metadata": {},
   "outputs": [
    {
     "data": {
      "image/png": "[encoded data removed]",
      "text/plain": [
       "<Figure size 1200x400 with 8 Axes>"
      ]
     },
     "metadata": {},
     "output_type": "display_data"
    }
   ],
   "source": [
    "fig,axs = plt.subplots(2,4)\n",
    "\n",
    "loc_roads[col].groupby('excLSTM').mean()['dist_A']\\\n",
    ".plot(figsize=(12,4),title = 'A Road', kind='bar',ax = axs[(0,0)]).set_xticklabels(['']*4)\n",
    "axs[(0,0)].set_xlabel('')\n",
    "\n",
    "loc_roads[col].groupby('excLSTM').mean()['dist_B']\\\n",
    ".plot(kind='bar',title = 'B Road',ax = axs[(0,1)]).set_xticklabels(['']*4)\n",
    "axs[(0,1)].set_xlabel('')\n",
    "\n",
    "loc_roads[col].groupby('excLSTM').mean()['dist_Minor']\\\n",
    ".plot(kind='bar',title = 'Minor Road',ax = axs[(0,2)]).set_xticklabels(['']*4)\n",
    "axs[(0,2)].set_xlabel('')\n",
    "\n",
    "loc_roads[col].groupby('excLSTM').mean()['dist_Local']\\\n",
    ".plot(kind='bar',title = 'Local Road',ax = axs[(0,3)]).set_xticklabels(['']*4)\n",
    "axs[(0,3)].set_xlabel('')\n",
    "\n",
    "loc_roads[col].groupby('excLSTM').mean()['dist_Local_Access']\\\n",
    ".plot(kind='bar',title = 'Local Access Road',ax = axs[(1,0)]).set_xlabel('')\n",
    "axs[(1,0)].set_xticklabels(axs[(1,0)].get_xticklabels(), rotation=30, ha='right')\n",
    "loc_roads[col].groupby('excLSTM').mean()['dist_Sec_Access']\\\n",
    ".plot(kind='bar',title = 'Secondary Access Road',ax = axs[(1,1)]).set_xlabel('')\n",
    "axs[(1,1)].set_xticklabels(axs[(1,1)].get_xticklabels(), rotation=30, ha='right')\n",
    "loc_roads[col].groupby('excLSTM').mean()['dist_Res_Local_Access']\\\n",
    ".plot(kind='bar',title = 'Restricted Local Access Road',ax = axs[(1,2)]).set_xlabel('')\n",
    "axs[(1,2)].set_xticklabels(axs[(1,2)].get_xticklabels(), rotation=30, ha='right')\n",
    "loc_roads[col].groupby('excLSTM').mean()['dist_Motorway']\\\n",
    ".plot(kind='bar',title = 'Motorway',ax = axs[(1,3)], ).set_xlabel('')\n",
    "axs[(1,3)].set_xticklabels(axs[(1,3)].get_xticklabels(), rotation=30, ha='right')\n",
    "\n",
    "plt.style.use('seaborn')\n",
    "plt.show()"
   ]
  },
  {
   "cell_type": "code",
   "execution_count": 33,
   "id": "canadian-messenger",
   "metadata": {},
   "outputs": [
    {
     "data": {
      "image/png": "[encoded data removed]",
      "text/plain": [
       "<Figure size 432x288 with 1 Axes>"
      ]
     },
     "metadata": {
      "needs_background": "light"
     },
     "output_type": "display_data"
    },
    {
     "data": {
      "image/png": "[encoded data removed]",
      "text/plain": [
       "<Figure size 432x288 with 1 Axes>"
      ]
     },
     "metadata": {
      "needs_background": "light"
     },
     "output_type": "display_data"
    },
    {
     "data": {
      "image/png": "[encoded data removed]",
      "text/plain": [
       "<Figure size 432x288 with 1 Axes>"
      ]
     },
     "metadata": {
      "needs_background": "light"
     },
     "output_type": "display_data"
    }
   ],
   "source": [
    "loc_roads[col].groupby('excLSTM')\\\n",
    ".mean()[['dist_A', 'dist_B', 'dist_Minor']].plot(kind='bar')\n",
    "ax = plt.gca()\n",
    "ax.set_xticklabels(ax.get_xticklabels(), rotation=45, ha='right', fontsize=12)\n",
    "\n",
    "loc_roads[col].groupby('excLSTM')\\\n",
    ".mean()[['dist_Local', 'dist_Local_Access', 'dist_Sec_Access', \n",
    "       'dist_Res_Local_Access']].plot(kind='bar')\n",
    "ax = plt.gca()\n",
    "ax.set_xticklabels(ax.get_xticklabels(), rotation=45, ha='right', fontsize=12)\n",
    "\n",
    "loc_roads[col].groupby('excLSTM')\\\n",
    ".mean()[['dist_Motorway']].plot(kind='bar')\n",
    "\n",
    "ax = plt.gca()\n",
    "ax.set_xticklabels(ax.get_xticklabels(), rotation=45, ha='right', fontsize=12)\n",
    "\n",
    "plt.show()"
   ]
  },
  {
   "cell_type": "markdown",
   "id": "ignored-strength",
   "metadata": {},
   "source": [
    "## Land Use"
   ]
  },
  {
   "cell_type": "code",
   "execution_count": 20,
   "id": "organic-nightlife",
   "metadata": {},
   "outputs": [],
   "source": [
    "loc_OAC = pd.read_csv('statistics2/UK_OAC.csv')\n",
    "loc_landuse = pd.merge(loc_roads, loc_OAC, how = 'inner', on = 'location')"
   ]
  },
  {
   "cell_type": "code",
   "execution_count": 21,
   "id": "adjusted-correlation",
   "metadata": {},
   "outputs": [
    {
     "name": "stderr",
     "output_type": "stream",
     "text": [
      "E:\\Anaconda3\\envs\\urbsim\\lib\\site-packages\\ipykernel_launcher.py:7: SettingWithCopyWarning: \n",
      "A value is trying to be set on a copy of a slice from a DataFrame\n",
      "\n",
      "See the caveats in the documentation: https://pandas.pydata.org/pandas-docs/stable/user_guide/indexing.html#returning-a-view-versus-a-copy\n",
      "  import sys\n",
      "E:\\Anaconda3\\envs\\urbsim\\lib\\site-packages\\pandas\\core\\indexing.py:1636: SettingWithCopyWarning: \n",
      "A value is trying to be set on a copy of a slice from a DataFrame\n",
      "\n",
      "See the caveats in the documentation: https://pandas.pydata.org/pandas-docs/stable/user_guide/indexing.html#returning-a-view-versus-a-copy\n",
      "  self._setitem_single_block(indexer, value, name)\n",
      "E:\\Anaconda3\\envs\\urbsim\\lib\\site-packages\\ipykernel_launcher.py:5: SettingWithCopyWarning: \n",
      "A value is trying to be set on a copy of a slice from a DataFrame\n",
      "\n",
      "See the caveats in the documentation: https://pandas.pydata.org/pandas-docs/stable/user_guide/indexing.html#returning-a-view-versus-a-copy\n",
      "  \"\"\"\n",
      "E:\\Anaconda3\\envs\\urbsim\\lib\\site-packages\\ipykernel_launcher.py:15: SettingWithCopyWarning: \n",
      "A value is trying to be set on a copy of a slice from a DataFrame\n",
      "\n",
      "See the caveats in the documentation: https://pandas.pydata.org/pandas-docs/stable/user_guide/indexing.html#returning-a-view-versus-a-copy\n",
      "  from ipykernel import kernelapp as app\n",
      "E:\\Anaconda3\\envs\\urbsim\\lib\\site-packages\\ipykernel_launcher.py:11: SettingWithCopyWarning: \n",
      "A value is trying to be set on a copy of a slice from a DataFrame\n",
      "\n",
      "See the caveats in the documentation: https://pandas.pydata.org/pandas-docs/stable/user_guide/indexing.html#returning-a-view-versus-a-copy\n",
      "  # This is added back by InteractiveShellApp.init_path()\n",
      "E:\\Anaconda3\\envs\\urbsim\\lib\\site-packages\\ipykernel_launcher.py:9: SettingWithCopyWarning: \n",
      "A value is trying to be set on a copy of a slice from a DataFrame\n",
      "\n",
      "See the caveats in the documentation: https://pandas.pydata.org/pandas-docs/stable/user_guide/indexing.html#returning-a-view-versus-a-copy\n",
      "  if __name__ == '__main__':\n",
      "E:\\Anaconda3\\envs\\urbsim\\lib\\site-packages\\ipykernel_launcher.py:17: SettingWithCopyWarning: \n",
      "A value is trying to be set on a copy of a slice from a DataFrame\n",
      "\n",
      "See the caveats in the documentation: https://pandas.pydata.org/pandas-docs/stable/user_guide/indexing.html#returning-a-view-versus-a-copy\n",
      "E:\\Anaconda3\\envs\\urbsim\\lib\\site-packages\\ipykernel_launcher.py:3: SettingWithCopyWarning: \n",
      "A value is trying to be set on a copy of a slice from a DataFrame\n",
      "\n",
      "See the caveats in the documentation: https://pandas.pydata.org/pandas-docs/stable/user_guide/indexing.html#returning-a-view-versus-a-copy\n",
      "  This is separate from the ipykernel package so we can avoid doing imports until\n"
     ]
    }
   ],
   "source": [
    "for i in range(len(loc_landuse['SPRGRP'])): \n",
    "    if loc_landuse['SPRGRP'][i] == 1:\n",
    "        loc_landuse['SPRGRP'][i] = 'Rural residents'\n",
    "    elif loc_landuse['SPRGRP'][i] == 2:\n",
    "        loc_landuse['SPRGRP'][i] = 'Comsopolitans'\n",
    "    elif loc_landuse['SPRGRP'][i] == 3:\n",
    "        loc_landuse['SPRGRP'][i] = 'Ethnicity central'\n",
    "    elif loc_landuse['SPRGRP'][i] == 4:\n",
    "        loc_landuse['SPRGRP'][i] = 'Multicultural metropolitans'\n",
    "    elif loc_landuse['SPRGRP'][i] == 5:\n",
    "        loc_landuse['SPRGRP'][i] = 'Urbanites'\n",
    "    elif loc_landuse['SPRGRP'][i] == 6:\n",
    "        loc_landuse['SPRGRP'][i] = 'Suburbanites'\n",
    "    elif loc_landuse['SPRGRP'][i] == 7:\n",
    "        loc_landuse['SPRGRP'][i] = 'Constrained city dwellers'\n",
    "    elif loc_landuse['SPRGRP'][i] == 8:\n",
    "        loc_landuse['SPRGRP'][i] = 'Hard-pressed living'"
   ]
  },
  {
   "cell_type": "code",
   "execution_count": 22,
   "id": "still-ecology",
   "metadata": {},
   "outputs": [
    {
     "name": "stderr",
     "output_type": "stream",
     "text": [
      "E:\\Anaconda3\\envs\\urbsim\\lib\\site-packages\\ipykernel_launcher.py:5: MatplotlibDeprecationWarning: Passing the minor parameter of set_ticks() positionally is deprecated since Matplotlib 3.2; the parameter will become keyword-only two minor releases later.\n",
      "  \"\"\"\n",
      "E:\\Anaconda3\\envs\\urbsim\\lib\\site-packages\\ipykernel_launcher.py:8: MatplotlibDeprecationWarning: Passing the minor parameter of set_ticks() positionally is deprecated since Matplotlib 3.2; the parameter will become keyword-only two minor releases later.\n",
      "  \n",
      "E:\\Anaconda3\\envs\\urbsim\\lib\\site-packages\\ipykernel_launcher.py:11: MatplotlibDeprecationWarning: Passing the minor parameter of set_ticks() positionally is deprecated since Matplotlib 3.2; the parameter will become keyword-only two minor releases later.\n",
      "  # This is added back by InteractiveShellApp.init_path()\n",
      "E:\\Anaconda3\\envs\\urbsim\\lib\\site-packages\\ipykernel_launcher.py:14: MatplotlibDeprecationWarning: Passing the minor parameter of set_ticks() positionally is deprecated since Matplotlib 3.2; the parameter will become keyword-only two minor releases later.\n",
      "  \n"
     ]
    },
    {
     "data": {
      "text/plain": [
       "<matplotlib.legend.Legend at 0x214546cebc8>"
      ]
     },
     "execution_count": 22,
     "metadata": {},
     "output_type": "execute_result"
    },
    {
     "data": {
      "image/png": "[encoded data removed]",
      "text/plain": [
       "<Figure size 720x288 with 1 Axes>"
      ]
     },
     "metadata": {
      "needs_background": "light"
     },
     "output_type": "display_data"
    }
   ],
   "source": [
    "x = np.arange(7)\n",
    "width = 0.05\n",
    "\n",
    "loc_landuse.loc[loc_landuse.excLSTM_x == 'Naive']['SPRGRP'].hist(figsize = (10,4),label = 'Naive', width = width).\\\n",
    "set_xticks(x - 1.5*width * 2, width)\n",
    "\n",
    "loc_landuse.loc[loc_landuse.excLSTM_x == 'MovAvg']['SPRGRP'].hist(label = 'MovAvg', width = width).\\\n",
    "set_xticks(x - 0.5*width, width)\n",
    "\n",
    "loc_landuse.loc[loc_landuse.excLSTM_x == 'SARIMA']['SPRGRP'].hist(label = 'SARIMA', width = width).\\\n",
    "set_xticks(x + 0.5* width, width)\n",
    "\n",
    "loc_landuse.loc[loc_landuse.excLSTM_x == 'HoltWinter']['SPRGRP'].hist(label = 'HoltWinters', width = width).\\\n",
    "set_xticks(x + 1.5*width, width)\n",
    "\n",
    "plt.legend(loc = 'best')"
   ]
  },
  {
   "cell_type": "code",
   "execution_count": 166,
   "id": "bottom-entry",
   "metadata": {},
   "outputs": [
    {
     "data": {
      "text/plain": [
       "array([[<AxesSubplot:title={'center':'excLSTM_x'}>]], dtype=object)"
      ]
     },
     "execution_count": 166,
     "metadata": {},
     "output_type": "execute_result"
    },
    {
     "data": {
      "image/png": "[encoded data removed]",
      "text/plain": [
       "<Figure size 300x200 with 1 Axes>"
      ]
     },
     "metadata": {},
     "output_type": "display_data"
    }
   ],
   "source": [
    "\n",
    "#plt.style.use('seaborn')\n",
    "loc_landuse[['excLSTM_x','SPRGRP']].groupby('SPRGRP').count().hist(figsize = (3,2))\n",
    "\n"
   ]
  },
  {
   "cell_type": "code",
   "execution_count": 93,
   "id": "interested-damage",
   "metadata": {},
   "outputs": [
    {
     "data": {
      "text/plain": [
       "[Text(0, 0, 'Comsopolitans'),\n",
       " Text(1, 0, 'Constrained city dwellers'),\n",
       " Text(2, 0, 'Ethnicity central'),\n",
       " Text(3, 0, 'Multicultural metropolitans')]"
      ]
     },
     "execution_count": 93,
     "metadata": {},
     "output_type": "execute_result"
    },
    {
     "data": {
      "image/png": "[encoded data removed]",
      "text/plain": [
       "<Figure size 864x144 with 4 Axes>"
      ]
     },
     "metadata": {},
     "output_type": "display_data"
    }
   ],
   "source": [
    "fig,axs = plt.subplots(1,4)\n",
    "plt.style.use('seaborn')\n",
    "loc_landuse.loc[loc_landuse.excLSTM_x == 'Naive'][['excLSTM_x','SPRGRP']].groupby('SPRGRP').count().plot.\\\n",
    "bar(figsize = (12,2),ax = axs[(0)]).set_xticklabels(axs[(0)].get_xticklabels(),rotation=15, ha='right')\n",
    "\n",
    "loc_landuse.loc[loc_landuse.excLSTM_x == 'MovAvg'][['excLSTM_x','SPRGRP']].groupby('SPRGRP').count().plot.\\\n",
    "bar(ax = axs[(1)]).set_xticklabels(axs[(1)].get_xticklabels(),rotation=15, ha='right')\n",
    "\n",
    "loc_landuse.loc[loc_landuse.excLSTM_x == 'SARIMA'][['excLSTM_x','SPRGRP']].groupby('SPRGRP').count().plot.\\\n",
    "bar(ax = axs[(2)]).set_xticklabels(axs[(2)].get_xticklabels(),rotation=15, ha='right')\n",
    "\n",
    "loc_landuse.loc[loc_landuse.excLSTM_x == 'HoltWinter'][['excLSTM_x','SPRGRP']].groupby('SPRGRP').count().plot.\\\n",
    "bar(ax = axs[(3)]).set_xticklabels(axs[(3)].get_xticklabels(),rotation=15, ha='right')\n",
    "\n"
   ]
  },
  {
   "cell_type": "code",
   "execution_count": 173,
   "id": "amber-latin",
   "metadata": {
    "scrolled": true
   },
   "outputs": [
    {
     "data": {
      "text/plain": [
       "Text(0.5, 0, '')"
      ]
     },
     "execution_count": 173,
     "metadata": {},
     "output_type": "execute_result"
    },
    {
     "data": {
      "image/png": "[encoded data removed]",
      "text/plain": [
       "<Figure size 800x180 with 3 Axes>"
      ]
     },
     "metadata": {},
     "output_type": "display_data"
    }
   ],
   "source": [
    "fig,axs = plt.subplots(1,3)\n",
    "plt.style.use('seaborn')\n",
    "\n",
    "loc_landuse.loc[loc_landuse.best == 'Naive'][['best','SPRGRP']].groupby('SPRGRP').count().plot.\\\n",
    "bar(figsize = (8,1.8),ax = axs[(0)],width = 0.4).set_xticklabels(axs[(0)].get_xticklabels(),rotation=30, ha='right')\n",
    "axs[(0)].legend().get_texts()[0].set_text('Naive')\n",
    "axs[0].set_xlabel('')\n",
    "\n",
    "loc_landuse.loc[loc_landuse.best== 'MovAvg'][['best','SPRGRP']].groupby('SPRGRP').count().plot.\\\n",
    "bar(ax = axs[(1)],width = 0.4).set_xticklabels(axs[(1)].get_xticklabels(),rotation=30, ha='right')\n",
    "axs[(1)].legend().get_texts()[0].set_text('MovAvg')\n",
    "axs[1].set_xlabel('')\n",
    "\n",
    "loc_landuse.loc[loc_landuse.best == 'SARIMA'][['best','SPRGRP']].groupby('SPRGRP').count().plot.\\\n",
    "bar(ax = axs[(2)],width = 0.25).set_xticklabels(axs[(2)].get_xticklabels(),rotation=30, ha='right')\n",
    "axs[(2)].legend().get_texts()[0].set_text('SARIMA')\n",
    "axs[2].set_xlabel('')"
   ]
  },
  {
   "cell_type": "code",
   "execution_count": 168,
   "id": "acoustic-denmark",
   "metadata": {},
   "outputs": [
    {
     "data": {
      "text/plain": [
       "Text(0.5, 0, '')"
      ]
     },
     "execution_count": 168,
     "metadata": {},
     "output_type": "execute_result"
    },
    {
     "data": {
      "image/png": "[encoded data removed]",
      "text/plain": [
       "<Figure size 800x200 with 2 Axes>"
      ]
     },
     "metadata": {},
     "output_type": "display_data"
    }
   ],
   "source": [
    "fig,axs = plt.subplots(1,2)\n",
    "plt.style.use('seaborn')\n",
    "\n",
    "loc_landuse.loc[loc_landuse.best == 'HoltWinter'][['best','SPRGRP']].groupby('SPRGRP').count().plot.\\\n",
    "bar(ax = axs[(0)],width = 0.2).set_xticklabels(axs[(0)].get_xticklabels(),rotation=30, ha='right')\n",
    "axs[(0)].legend().get_texts()[0].set_text('HoltWinter')\n",
    "axs[0].set_xlabel('')\n",
    "\n",
    "loc_landuse.loc[loc_landuse.best == 'LSTM'][['best','SPRGRP']].groupby('SPRGRP').count().plot.\\\n",
    "bar(figsize = (8,2),ax = axs[(1)]).set_xticklabels(axs[(1)].get_xticklabels(),rotation=30, ha='right')\n",
    "axs[(1)].legend().get_texts()[0].set_text('LSTM')\n",
    "axs[1].set_xlabel('')\n"
   ]
  },
  {
   "cell_type": "code",
   "execution_count": 120,
   "id": "graduate-wallace",
   "metadata": {
    "scrolled": true
   },
   "outputs": [
    {
     "data": {
      "image/png": "[encoded data removed]",
      "text/plain": [
       "<Figure size 800x200 with 2 Axes>"
      ]
     },
     "metadata": {},
     "output_type": "display_data"
    }
   ],
   "source": [
    "fig,axs = plt.subplots(1,2)\n",
    "plt.style.use('seaborn')\n",
    "\n",
    "loc_landuse.loc[loc_landuse.excLSTM_x == 'Naive'][['excLSTM_x','SPRGRP']].groupby('SPRGRP').count().plot.\\\n",
    "bar(figsize = (8,2),ax = axs[(0)]).set_xticklabels(axs[(0)].get_xticklabels(),rotation=30, ha='right')\n",
    "axs[(0)].legend().get_texts()[0].set_text('Naive')\n",
    "\n",
    "loc_landuse.loc[loc_landuse.excLSTM_x == 'MovAvg'][['excLSTM_x','SPRGRP']].groupby('SPRGRP').count().plot.\\\n",
    "bar(ax = axs[(1)]).set_xticklabels(axs[(1)].get_xticklabels(),rotation=30, ha='right')\n",
    "axs[(1)].legend().get_texts()[0].set_text('MovAvg')\n"
   ]
  },
  {
   "cell_type": "code",
   "execution_count": 122,
   "id": "shaped-separation",
   "metadata": {},
   "outputs": [
    {
     "data": {
      "image/png": "[encoded data removed]",
      "text/plain": [
       "<Figure size 800x200 with 2 Axes>"
      ]
     },
     "metadata": {},
     "output_type": "display_data"
    }
   ],
   "source": [
    "fig,axs = plt.subplots(1,2)\n",
    "plt.style.use('seaborn')\n",
    "\n",
    "loc_landuse.loc[loc_landuse.excLSTM_x == 'SARIMA'][['excLSTM_x','SPRGRP']].groupby('SPRGRP').count().plot.\\\n",
    "bar(figsize = (8,2),ax = axs[(0)]).set_xticklabels(axs[(0)].get_xticklabels(),rotation=30, ha='right')\n",
    "\n",
    "loc_landuse.loc[loc_landuse.excLSTM_x == 'HoltWinter'][['excLSTM_x','SPRGRP']].groupby('SPRGRP').count().plot.\\\n",
    "bar(ax = axs[(1)]).set_xticklabels(axs[(1)].get_xticklabels(),rotation=30, ha='right')\n",
    "\n",
    "axs[(0)].legend().get_texts()[0].set_text('SARIMA')\n",
    "axs[(1)].legend().get_texts()[0].set_text('HoltWinter')"
   ]
  },
  {
   "cell_type": "code",
   "execution_count": null,
   "id": "supreme-merchandise",
   "metadata": {},
   "outputs": [],
   "source": []
  },
  {
   "cell_type": "markdown",
   "id": "neither-taylor",
   "metadata": {},
   "source": [
    "## Modelling Best Mothod through Random Forest Classifer"
   ]
  },
  {
   "cell_type": "code",
   "execution_count": 23,
   "id": "mounted-personal",
   "metadata": {},
   "outputs": [],
   "source": [
    "from sklearn.model_selection import train_test_split\n",
    "from sklearn.metrics import r2_score\n",
    "from sklearn.metrics import mean_squared_error\n",
    "from sklearn.ensemble import RandomForestClassifier"
   ]
  },
  {
   "cell_type": "code",
   "execution_count": 24,
   "id": "significant-carpet",
   "metadata": {
    "scrolled": true
   },
   "outputs": [
    {
     "data": {
      "text/html": [
       "<div>\n",
       "<style scoped>\n",
       "    .dataframe tbody tr th:only-of-type {\n",
       "        vertical-align: middle;\n",
       "    }\n",
       "\n",
       "    .dataframe tbody tr th {\n",
       "        vertical-align: top;\n",
       "    }\n",
       "\n",
       "    .dataframe thead th {\n",
       "        text-align: right;\n",
       "    }\n",
       "</style>\n",
       "<table border=\"1\" class=\"dataframe\">\n",
       "  <thead>\n",
       "    <tr style=\"text-align: right;\">\n",
       "      <th></th>\n",
       "      <th>location</th>\n",
       "      <th>lat</th>\n",
       "      <th>lon</th>\n",
       "      <th>best</th>\n",
       "      <th>excLSTM</th>\n",
       "      <th>city</th>\n",
       "      <th>region</th>\n",
       "      <th>dist_A</th>\n",
       "      <th>dist_B</th>\n",
       "      <th>dist_Minor</th>\n",
       "      <th>dist_Local</th>\n",
       "      <th>dist_Local_Access</th>\n",
       "      <th>dist_Sec_Access</th>\n",
       "      <th>dist_Res_Local_Access</th>\n",
       "      <th>dist_Motorway</th>\n",
       "      <th>address</th>\n",
       "      <th>position</th>\n",
       "    </tr>\n",
       "  </thead>\n",
       "  <tbody>\n",
       "    <tr>\n",
       "      <th>0</th>\n",
       "      <td>5.0</td>\n",
       "      <td>51.49273</td>\n",
       "      <td>-0.22426</td>\n",
       "      <td>LSTM</td>\n",
       "      <td>MovAvg</td>\n",
       "      <td>London</td>\n",
       "      <td>Greater London</td>\n",
       "      <td>0.249989</td>\n",
       "      <td>8.183310</td>\n",
       "      <td>15.845292</td>\n",
       "      <td>0.343351</td>\n",
       "      <td>9.119249</td>\n",
       "      <td>7.121891</td>\n",
       "      <td>1.672632</td>\n",
       "      <td>52.418194</td>\n",
       "      <td>Unit 35, Hammersmith Broadway Shopping Centre,...</td>\n",
       "      <td>King Street entrance</td>\n",
       "    </tr>\n",
       "    <tr>\n",
       "      <th>1</th>\n",
       "      <td>6.0</td>\n",
       "      <td>51.49215</td>\n",
       "      <td>-0.22356</td>\n",
       "      <td>LSTM</td>\n",
       "      <td>MovAvg</td>\n",
       "      <td>London</td>\n",
       "      <td>Greater London</td>\n",
       "      <td>0.283125</td>\n",
       "      <td>8.971344</td>\n",
       "      <td>15.829665</td>\n",
       "      <td>0.085263</td>\n",
       "      <td>8.733550</td>\n",
       "      <td>6.263092</td>\n",
       "      <td>0.841378</td>\n",
       "      <td>53.081041</td>\n",
       "      <td>Unit 11, Hammersmith Broadway Shopping Centre,...</td>\n",
       "      <td>Hammersmith Underground Station - Talgarth Roa...</td>\n",
       "    </tr>\n",
       "    <tr>\n",
       "      <th>2</th>\n",
       "      <td>7.0</td>\n",
       "      <td>51.49171</td>\n",
       "      <td>-0.22361</td>\n",
       "      <td>NaN</td>\n",
       "      <td>MovAvg</td>\n",
       "      <td>London</td>\n",
       "      <td>Greater London</td>\n",
       "      <td>0.087891</td>\n",
       "      <td>9.018724</td>\n",
       "      <td>15.868603</td>\n",
       "      <td>0.333934</td>\n",
       "      <td>8.434502</td>\n",
       "      <td>5.912387</td>\n",
       "      <td>0.958705</td>\n",
       "      <td>53.008327</td>\n",
       "      <td>Unit 13-16, Hammersmith Broadway Shopping Cent...</td>\n",
       "      <td>Talgarth Road entrance</td>\n",
       "    </tr>\n",
       "    <tr>\n",
       "      <th>3</th>\n",
       "      <td>31.0</td>\n",
       "      <td>53.95737</td>\n",
       "      <td>-1.07965</td>\n",
       "      <td>LSTM</td>\n",
       "      <td>SARIMA</td>\n",
       "      <td>York</td>\n",
       "      <td>Yorkshire and the Humber</td>\n",
       "      <td>3.247845</td>\n",
       "      <td>0.553040</td>\n",
       "      <td>5.278809</td>\n",
       "      <td>0.121614</td>\n",
       "      <td>0.236689</td>\n",
       "      <td>4.025079</td>\n",
       "      <td>1.635080</td>\n",
       "      <td>266.975816</td>\n",
       "      <td>Unit 3, Coppergate Shopping Centre, St. Marys ...</td>\n",
       "      <td>Topshop</td>\n",
       "    </tr>\n",
       "    <tr>\n",
       "      <th>4</th>\n",
       "      <td>62.0</td>\n",
       "      <td>51.49226</td>\n",
       "      <td>-0.22374</td>\n",
       "      <td>NaN</td>\n",
       "      <td>MovAvg</td>\n",
       "      <td>London</td>\n",
       "      <td>Greater London</td>\n",
       "      <td>0.154238</td>\n",
       "      <td>8.773683</td>\n",
       "      <td>15.859061</td>\n",
       "      <td>0.231139</td>\n",
       "      <td>8.933722</td>\n",
       "      <td>6.448961</td>\n",
       "      <td>1.034977</td>\n",
       "      <td>52.907605</td>\n",
       "      <td>Unit 9, Hammersmith Broadway Shopping Centre, ...</td>\n",
       "      <td>Bus station link corridor</td>\n",
       "    </tr>\n",
       "  </tbody>\n",
       "</table>\n",
       "</div>"
      ],
      "text/plain": [
       "   location       lat      lon  best excLSTM    city  \\\n",
       "0       5.0  51.49273 -0.22426  LSTM  MovAvg  London   \n",
       "1       6.0  51.49215 -0.22356  LSTM  MovAvg  London   \n",
       "2       7.0  51.49171 -0.22361   NaN  MovAvg  London   \n",
       "3      31.0  53.95737 -1.07965  LSTM  SARIMA    York   \n",
       "4      62.0  51.49226 -0.22374   NaN  MovAvg  London   \n",
       "\n",
       "                     region    dist_A    dist_B  dist_Minor  dist_Local  \\\n",
       "0            Greater London  0.249989  8.183310   15.845292    0.343351   \n",
       "1            Greater London  0.283125  8.971344   15.829665    0.085263   \n",
       "2            Greater London  0.087891  9.018724   15.868603    0.333934   \n",
       "3  Yorkshire and the Humber  3.247845  0.553040    5.278809    0.121614   \n",
       "4            Greater London  0.154238  8.773683   15.859061    0.231139   \n",
       "\n",
       "   dist_Local_Access  dist_Sec_Access  dist_Res_Local_Access  dist_Motorway  \\\n",
       "0           9.119249         7.121891               1.672632      52.418194   \n",
       "1           8.733550         6.263092               0.841378      53.081041   \n",
       "2           8.434502         5.912387               0.958705      53.008327   \n",
       "3           0.236689         4.025079               1.635080     266.975816   \n",
       "4           8.933722         6.448961               1.034977      52.907605   \n",
       "\n",
       "                                             address  \\\n",
       "0  Unit 35, Hammersmith Broadway Shopping Centre,...   \n",
       "1  Unit 11, Hammersmith Broadway Shopping Centre,...   \n",
       "2  Unit 13-16, Hammersmith Broadway Shopping Cent...   \n",
       "3  Unit 3, Coppergate Shopping Centre, St. Marys ...   \n",
       "4  Unit 9, Hammersmith Broadway Shopping Centre, ...   \n",
       "\n",
       "                                            position  \n",
       "0                               King Street entrance  \n",
       "1  Hammersmith Underground Station - Talgarth Roa...  \n",
       "2                             Talgarth Road entrance  \n",
       "3                                            Topshop  \n",
       "4                          Bus station link corridor  "
      ]
     },
     "execution_count": 24,
     "metadata": {},
     "output_type": "execute_result"
    }
   ],
   "source": [
    "loc_roads = pd.read_csv('loc_roads.csv')\n",
    "loc_roads = loc_roads.drop('Unnamed: 0', axis =1)\n",
    "loc_roads.head()"
   ]
  },
  {
   "cell_type": "code",
   "execution_count": 25,
   "id": "strategic-israel",
   "metadata": {},
   "outputs": [
    {
     "data": {
      "text/html": [
       "<div>\n",
       "<style scoped>\n",
       "    .dataframe tbody tr th:only-of-type {\n",
       "        vertical-align: middle;\n",
       "    }\n",
       "\n",
       "    .dataframe tbody tr th {\n",
       "        vertical-align: top;\n",
       "    }\n",
       "\n",
       "    .dataframe thead th {\n",
       "        text-align: right;\n",
       "    }\n",
       "</style>\n",
       "<table border=\"1\" class=\"dataframe\">\n",
       "  <thead>\n",
       "    <tr style=\"text-align: right;\">\n",
       "      <th></th>\n",
       "      <th>location</th>\n",
       "      <th>lat</th>\n",
       "      <th>lon</th>\n",
       "      <th>best</th>\n",
       "      <th>excLSTM</th>\n",
       "      <th>city</th>\n",
       "      <th>region</th>\n",
       "      <th>dist_A</th>\n",
       "      <th>dist_B</th>\n",
       "      <th>dist_Minor</th>\n",
       "      <th>dist_Local</th>\n",
       "      <th>dist_Local_Access</th>\n",
       "      <th>dist_Sec_Access</th>\n",
       "      <th>dist_Res_Local_Access</th>\n",
       "      <th>dist_Motorway</th>\n",
       "      <th>address</th>\n",
       "      <th>position</th>\n",
       "      <th>DISTRICT</th>\n",
       "    </tr>\n",
       "  </thead>\n",
       "  <tbody>\n",
       "    <tr>\n",
       "      <th>0</th>\n",
       "      <td>5.0</td>\n",
       "      <td>51.49273</td>\n",
       "      <td>-0.22426</td>\n",
       "      <td>LSTM</td>\n",
       "      <td>MovAvg</td>\n",
       "      <td>London</td>\n",
       "      <td>Greater London</td>\n",
       "      <td>0.249989</td>\n",
       "      <td>8.183310</td>\n",
       "      <td>15.845292</td>\n",
       "      <td>0.343351</td>\n",
       "      <td>9.119249</td>\n",
       "      <td>7.121891</td>\n",
       "      <td>1.672632</td>\n",
       "      <td>52.418194</td>\n",
       "      <td>Unit 35, Hammersmith Broadway Shopping Centre,...</td>\n",
       "      <td>King Street entrance</td>\n",
       "      <td>Hammersmith and Fulham</td>\n",
       "    </tr>\n",
       "    <tr>\n",
       "      <th>1</th>\n",
       "      <td>6.0</td>\n",
       "      <td>51.49215</td>\n",
       "      <td>-0.22356</td>\n",
       "      <td>LSTM</td>\n",
       "      <td>MovAvg</td>\n",
       "      <td>London</td>\n",
       "      <td>Greater London</td>\n",
       "      <td>0.283125</td>\n",
       "      <td>8.971344</td>\n",
       "      <td>15.829665</td>\n",
       "      <td>0.085263</td>\n",
       "      <td>8.733550</td>\n",
       "      <td>6.263092</td>\n",
       "      <td>0.841378</td>\n",
       "      <td>53.081041</td>\n",
       "      <td>Unit 11, Hammersmith Broadway Shopping Centre,...</td>\n",
       "      <td>Hammersmith Underground Station - Talgarth Roa...</td>\n",
       "      <td>Hammersmith and Fulham</td>\n",
       "    </tr>\n",
       "    <tr>\n",
       "      <th>2</th>\n",
       "      <td>7.0</td>\n",
       "      <td>51.49171</td>\n",
       "      <td>-0.22361</td>\n",
       "      <td>NaN</td>\n",
       "      <td>MovAvg</td>\n",
       "      <td>London</td>\n",
       "      <td>Greater London</td>\n",
       "      <td>0.087891</td>\n",
       "      <td>9.018724</td>\n",
       "      <td>15.868603</td>\n",
       "      <td>0.333934</td>\n",
       "      <td>8.434502</td>\n",
       "      <td>5.912387</td>\n",
       "      <td>0.958705</td>\n",
       "      <td>53.008327</td>\n",
       "      <td>Unit 13-16, Hammersmith Broadway Shopping Cent...</td>\n",
       "      <td>Talgarth Road entrance</td>\n",
       "      <td>Hammersmith and Fulham</td>\n",
       "    </tr>\n",
       "    <tr>\n",
       "      <th>3</th>\n",
       "      <td>62.0</td>\n",
       "      <td>51.49226</td>\n",
       "      <td>-0.22374</td>\n",
       "      <td>NaN</td>\n",
       "      <td>MovAvg</td>\n",
       "      <td>London</td>\n",
       "      <td>Greater London</td>\n",
       "      <td>0.154238</td>\n",
       "      <td>8.773683</td>\n",
       "      <td>15.859061</td>\n",
       "      <td>0.231139</td>\n",
       "      <td>8.933722</td>\n",
       "      <td>6.448961</td>\n",
       "      <td>1.034977</td>\n",
       "      <td>52.907605</td>\n",
       "      <td>Unit 9, Hammersmith Broadway Shopping Centre, ...</td>\n",
       "      <td>Bus station link corridor</td>\n",
       "      <td>Hammersmith and Fulham</td>\n",
       "    </tr>\n",
       "    <tr>\n",
       "      <th>4</th>\n",
       "      <td>78.0</td>\n",
       "      <td>51.49255</td>\n",
       "      <td>-0.22395</td>\n",
       "      <td>LSTM</td>\n",
       "      <td>MovAvg</td>\n",
       "      <td>London</td>\n",
       "      <td>Greater London</td>\n",
       "      <td>0.156842</td>\n",
       "      <td>8.516844</td>\n",
       "      <td>15.774605</td>\n",
       "      <td>0.331833</td>\n",
       "      <td>9.208406</td>\n",
       "      <td>6.805659</td>\n",
       "      <td>1.317535</td>\n",
       "      <td>52.715687</td>\n",
       "      <td>Unit 3, Hammersmith Broadway Shopping Centre, ...</td>\n",
       "      <td>Hammersmith Underground Station - King Street ...</td>\n",
       "      <td>Hammersmith and Fulham</td>\n",
       "    </tr>\n",
       "    <tr>\n",
       "      <th>...</th>\n",
       "      <td>...</td>\n",
       "      <td>...</td>\n",
       "      <td>...</td>\n",
       "      <td>...</td>\n",
       "      <td>...</td>\n",
       "      <td>...</td>\n",
       "      <td>...</td>\n",
       "      <td>...</td>\n",
       "      <td>...</td>\n",
       "      <td>...</td>\n",
       "      <td>...</td>\n",
       "      <td>...</td>\n",
       "      <td>...</td>\n",
       "      <td>...</td>\n",
       "      <td>...</td>\n",
       "      <td>...</td>\n",
       "      <td>...</td>\n",
       "      <td>...</td>\n",
       "    </tr>\n",
       "    <tr>\n",
       "      <th>119</th>\n",
       "      <td>1026.0</td>\n",
       "      <td>51.51364</td>\n",
       "      <td>-0.17934</td>\n",
       "      <td>HoltWinter</td>\n",
       "      <td>HoltWinter</td>\n",
       "      <td>London</td>\n",
       "      <td>Greater London</td>\n",
       "      <td>3.262081</td>\n",
       "      <td>1.103694</td>\n",
       "      <td>2.121907</td>\n",
       "      <td>0.091332</td>\n",
       "      <td>5.105713</td>\n",
       "      <td>1.635473</td>\n",
       "      <td>1.945128</td>\n",
       "      <td>74.574577</td>\n",
       "      <td>40-42 Craven Road, London, W2 3QA, Greater London</td>\n",
       "      <td>NaN</td>\n",
       "      <td>City of Westminster</td>\n",
       "    </tr>\n",
       "    <tr>\n",
       "      <th>120</th>\n",
       "      <td>1115.0</td>\n",
       "      <td>51.57751</td>\n",
       "      <td>-0.22439</td>\n",
       "      <td>LSTM</td>\n",
       "      <td>MovAvg</td>\n",
       "      <td>London</td>\n",
       "      <td>Greater London</td>\n",
       "      <td>1.784739</td>\n",
       "      <td>4.759331</td>\n",
       "      <td>0.986253</td>\n",
       "      <td>0.165188</td>\n",
       "      <td>0.129322</td>\n",
       "      <td>2.837775</td>\n",
       "      <td>2.926707</td>\n",
       "      <td>5.754745</td>\n",
       "      <td>Unit 31, Brent Cross Shopping Centre, Prince C...</td>\n",
       "      <td>NaN</td>\n",
       "      <td>Barnet</td>\n",
       "    </tr>\n",
       "    <tr>\n",
       "      <th>121</th>\n",
       "      <td>1116.0</td>\n",
       "      <td>51.51298</td>\n",
       "      <td>-0.30313</td>\n",
       "      <td>NaN</td>\n",
       "      <td>NaN</td>\n",
       "      <td>London</td>\n",
       "      <td>Greater London</td>\n",
       "      <td>0.304971</td>\n",
       "      <td>0.519741</td>\n",
       "      <td>0.329524</td>\n",
       "      <td>1.737113</td>\n",
       "      <td>1.042465</td>\n",
       "      <td>2.502948</td>\n",
       "      <td>0.792413</td>\n",
       "      <td>22.177148</td>\n",
       "      <td>Unit kiosk 2, Ealing Broadway Shopping Centre,...</td>\n",
       "      <td>NaN</td>\n",
       "      <td>Ealing</td>\n",
       "    </tr>\n",
       "    <tr>\n",
       "      <th>122</th>\n",
       "      <td>1117.0</td>\n",
       "      <td>51.40707</td>\n",
       "      <td>-0.02797</td>\n",
       "      <td>LSTM</td>\n",
       "      <td>HoltWinter</td>\n",
       "      <td>Beckenham</td>\n",
       "      <td>Greater London</td>\n",
       "      <td>1.095582</td>\n",
       "      <td>4.615151</td>\n",
       "      <td>1.129827</td>\n",
       "      <td>0.183936</td>\n",
       "      <td>0.771501</td>\n",
       "      <td>0.175971</td>\n",
       "      <td>1.311650</td>\n",
       "      <td>139.559269</td>\n",
       "      <td>184 High Street, Beckenham, BR3 1EN, Greater L...</td>\n",
       "      <td>NaN</td>\n",
       "      <td>Bromley</td>\n",
       "    </tr>\n",
       "    <tr>\n",
       "      <th>123</th>\n",
       "      <td>1166.0</td>\n",
       "      <td>51.49683</td>\n",
       "      <td>-0.13995</td>\n",
       "      <td>NaN</td>\n",
       "      <td>NaN</td>\n",
       "      <td>London</td>\n",
       "      <td>Greater London</td>\n",
       "      <td>0.390717</td>\n",
       "      <td>2.756812</td>\n",
       "      <td>5.359857</td>\n",
       "      <td>0.872419</td>\n",
       "      <td>2.018043</td>\n",
       "      <td>7.524002</td>\n",
       "      <td>1.407306</td>\n",
       "      <td>114.100603</td>\n",
       "      <td>149-151 Victoria Street, London, SW1E 5NH, Gre...</td>\n",
       "      <td>NaN</td>\n",
       "      <td>City of Westminster</td>\n",
       "    </tr>\n",
       "  </tbody>\n",
       "</table>\n",
       "<p>110 rows × 18 columns</p>\n",
       "</div>"
      ],
      "text/plain": [
       "     location       lat      lon        best     excLSTM       city  \\\n",
       "0         5.0  51.49273 -0.22426        LSTM      MovAvg     London   \n",
       "1         6.0  51.49215 -0.22356        LSTM      MovAvg     London   \n",
       "2         7.0  51.49171 -0.22361         NaN      MovAvg     London   \n",
       "3        62.0  51.49226 -0.22374         NaN      MovAvg     London   \n",
       "4        78.0  51.49255 -0.22395        LSTM      MovAvg     London   \n",
       "..        ...       ...      ...         ...         ...        ...   \n",
       "119    1026.0  51.51364 -0.17934  HoltWinter  HoltWinter     London   \n",
       "120    1115.0  51.57751 -0.22439        LSTM      MovAvg     London   \n",
       "121    1116.0  51.51298 -0.30313         NaN         NaN     London   \n",
       "122    1117.0  51.40707 -0.02797        LSTM  HoltWinter  Beckenham   \n",
       "123    1166.0  51.49683 -0.13995         NaN         NaN     London   \n",
       "\n",
       "             region    dist_A    dist_B  dist_Minor  dist_Local  \\\n",
       "0    Greater London  0.249989  8.183310   15.845292    0.343351   \n",
       "1    Greater London  0.283125  8.971344   15.829665    0.085263   \n",
       "2    Greater London  0.087891  9.018724   15.868603    0.333934   \n",
       "3    Greater London  0.154238  8.773683   15.859061    0.231139   \n",
       "4    Greater London  0.156842  8.516844   15.774605    0.331833   \n",
       "..              ...       ...       ...         ...         ...   \n",
       "119  Greater London  3.262081  1.103694    2.121907    0.091332   \n",
       "120  Greater London  1.784739  4.759331    0.986253    0.165188   \n",
       "121  Greater London  0.304971  0.519741    0.329524    1.737113   \n",
       "122  Greater London  1.095582  4.615151    1.129827    0.183936   \n",
       "123  Greater London  0.390717  2.756812    5.359857    0.872419   \n",
       "\n",
       "     dist_Local_Access  dist_Sec_Access  dist_Res_Local_Access  dist_Motorway  \\\n",
       "0             9.119249         7.121891               1.672632      52.418194   \n",
       "1             8.733550         6.263092               0.841378      53.081041   \n",
       "2             8.434502         5.912387               0.958705      53.008327   \n",
       "3             8.933722         6.448961               1.034977      52.907605   \n",
       "4             9.208406         6.805659               1.317535      52.715687   \n",
       "..                 ...              ...                    ...            ...   \n",
       "119           5.105713         1.635473               1.945128      74.574577   \n",
       "120           0.129322         2.837775               2.926707       5.754745   \n",
       "121           1.042465         2.502948               0.792413      22.177148   \n",
       "122           0.771501         0.175971               1.311650     139.559269   \n",
       "123           2.018043         7.524002               1.407306     114.100603   \n",
       "\n",
       "                                               address  \\\n",
       "0    Unit 35, Hammersmith Broadway Shopping Centre,...   \n",
       "1    Unit 11, Hammersmith Broadway Shopping Centre,...   \n",
       "2    Unit 13-16, Hammersmith Broadway Shopping Cent...   \n",
       "3    Unit 9, Hammersmith Broadway Shopping Centre, ...   \n",
       "4    Unit 3, Hammersmith Broadway Shopping Centre, ...   \n",
       "..                                                 ...   \n",
       "119  40-42 Craven Road, London, W2 3QA, Greater London   \n",
       "120  Unit 31, Brent Cross Shopping Centre, Prince C...   \n",
       "121  Unit kiosk 2, Ealing Broadway Shopping Centre,...   \n",
       "122  184 High Street, Beckenham, BR3 1EN, Greater L...   \n",
       "123  149-151 Victoria Street, London, SW1E 5NH, Gre...   \n",
       "\n",
       "                                              position                DISTRICT  \n",
       "0                                 King Street entrance  Hammersmith and Fulham  \n",
       "1    Hammersmith Underground Station - Talgarth Roa...  Hammersmith and Fulham  \n",
       "2                               Talgarth Road entrance  Hammersmith and Fulham  \n",
       "3                            Bus station link corridor  Hammersmith and Fulham  \n",
       "4    Hammersmith Underground Station - King Street ...  Hammersmith and Fulham  \n",
       "..                                                 ...                     ...  \n",
       "119                                                NaN     City of Westminster  \n",
       "120                                                NaN                  Barnet  \n",
       "121                                                NaN                  Ealing  \n",
       "122                                                NaN                 Bromley  \n",
       "123                                                NaN     City of Westminster  \n",
       "\n",
       "[110 rows x 18 columns]"
      ]
     },
     "execution_count": 25,
     "metadata": {},
     "output_type": "execute_result"
    }
   ],
   "source": [
    "temp = pd.read_csv('loc_district.csv')\n",
    "temp = temp[['location','DISTRICT']]\n",
    "loc_roads = pd.merge(loc_roads, temp, how = 'inner', on = 'location')\n",
    "loc_roads = loc_roads.drop_duplicates()\n",
    "loc_roads"
   ]
  },
  {
   "cell_type": "code",
   "execution_count": 26,
   "id": "criminal-policy",
   "metadata": {},
   "outputs": [],
   "source": [
    "loc_OAC = pd.read_csv('statistics2/UK_OAC.csv')[['location','POPULATION','SPRGRP','GRP','SUBGRP']]\n",
    "loc_roads = pd.merge(loc_roads, loc_OAC, how = 'inner', on = 'location')"
   ]
  },
  {
   "cell_type": "code",
   "execution_count": 27,
   "id": "paperback-junior",
   "metadata": {},
   "outputs": [
    {
     "name": "stderr",
     "output_type": "stream",
     "text": [
      "E:\\Anaconda3\\envs\\urbsim\\lib\\site-packages\\ipykernel_launcher.py:7: SettingWithCopyWarning: \n",
      "A value is trying to be set on a copy of a slice from a DataFrame\n",
      "\n",
      "See the caveats in the documentation: https://pandas.pydata.org/pandas-docs/stable/user_guide/indexing.html#returning-a-view-versus-a-copy\n",
      "  import sys\n",
      "E:\\Anaconda3\\envs\\urbsim\\lib\\site-packages\\pandas\\core\\indexing.py:1636: SettingWithCopyWarning: \n",
      "A value is trying to be set on a copy of a slice from a DataFrame\n",
      "\n",
      "See the caveats in the documentation: https://pandas.pydata.org/pandas-docs/stable/user_guide/indexing.html#returning-a-view-versus-a-copy\n",
      "  self._setitem_single_block(indexer, value, name)\n",
      "E:\\Anaconda3\\envs\\urbsim\\lib\\site-packages\\ipykernel_launcher.py:5: SettingWithCopyWarning: \n",
      "A value is trying to be set on a copy of a slice from a DataFrame\n",
      "\n",
      "See the caveats in the documentation: https://pandas.pydata.org/pandas-docs/stable/user_guide/indexing.html#returning-a-view-versus-a-copy\n",
      "  \"\"\"\n",
      "E:\\Anaconda3\\envs\\urbsim\\lib\\site-packages\\ipykernel_launcher.py:9: SettingWithCopyWarning: \n",
      "A value is trying to be set on a copy of a slice from a DataFrame\n",
      "\n",
      "See the caveats in the documentation: https://pandas.pydata.org/pandas-docs/stable/user_guide/indexing.html#returning-a-view-versus-a-copy\n",
      "  if __name__ == '__main__':\n",
      "E:\\Anaconda3\\envs\\urbsim\\lib\\site-packages\\ipykernel_launcher.py:11: SettingWithCopyWarning: \n",
      "A value is trying to be set on a copy of a slice from a DataFrame\n",
      "\n",
      "See the caveats in the documentation: https://pandas.pydata.org/pandas-docs/stable/user_guide/indexing.html#returning-a-view-versus-a-copy\n",
      "  # This is added back by InteractiveShellApp.init_path()\n"
     ]
    },
    {
     "data": {
      "text/html": [
       "<div>\n",
       "<style scoped>\n",
       "    .dataframe tbody tr th:only-of-type {\n",
       "        vertical-align: middle;\n",
       "    }\n",
       "\n",
       "    .dataframe tbody tr th {\n",
       "        vertical-align: top;\n",
       "    }\n",
       "\n",
       "    .dataframe thead th {\n",
       "        text-align: right;\n",
       "    }\n",
       "</style>\n",
       "<table border=\"1\" class=\"dataframe\">\n",
       "  <thead>\n",
       "    <tr style=\"text-align: right;\">\n",
       "      <th></th>\n",
       "      <th>location</th>\n",
       "      <th>lat</th>\n",
       "      <th>lon</th>\n",
       "      <th>best</th>\n",
       "      <th>excLSTM</th>\n",
       "      <th>city</th>\n",
       "      <th>region</th>\n",
       "      <th>dist_A</th>\n",
       "      <th>dist_B</th>\n",
       "      <th>dist_Minor</th>\n",
       "      <th>...</th>\n",
       "      <th>dist_Sec_Access</th>\n",
       "      <th>dist_Res_Local_Access</th>\n",
       "      <th>dist_Motorway</th>\n",
       "      <th>address</th>\n",
       "      <th>position</th>\n",
       "      <th>DISTRICT</th>\n",
       "      <th>POPULATION</th>\n",
       "      <th>SPRGRP</th>\n",
       "      <th>GRP</th>\n",
       "      <th>SUBGRP</th>\n",
       "    </tr>\n",
       "  </thead>\n",
       "  <tbody>\n",
       "    <tr>\n",
       "      <th>0</th>\n",
       "      <td>5.0</td>\n",
       "      <td>51.49273</td>\n",
       "      <td>-0.22426</td>\n",
       "      <td>LSTM</td>\n",
       "      <td>MovAvg</td>\n",
       "      <td>London</td>\n",
       "      <td>Greater London</td>\n",
       "      <td>0.249989</td>\n",
       "      <td>8.183310</td>\n",
       "      <td>15.845292</td>\n",
       "      <td>...</td>\n",
       "      <td>7.121891</td>\n",
       "      <td>1.672632</td>\n",
       "      <td>52.418194</td>\n",
       "      <td>Unit 35, Hammersmith Broadway Shopping Centre,...</td>\n",
       "      <td>King Street entrance</td>\n",
       "      <td>Hammersmith and Fulham</td>\n",
       "      <td>344.0</td>\n",
       "      <td>Ethnicity central</td>\n",
       "      <td>3d</td>\n",
       "      <td>3d1</td>\n",
       "    </tr>\n",
       "    <tr>\n",
       "      <th>1</th>\n",
       "      <td>6.0</td>\n",
       "      <td>51.49215</td>\n",
       "      <td>-0.22356</td>\n",
       "      <td>LSTM</td>\n",
       "      <td>MovAvg</td>\n",
       "      <td>London</td>\n",
       "      <td>Greater London</td>\n",
       "      <td>0.283125</td>\n",
       "      <td>8.971344</td>\n",
       "      <td>15.829665</td>\n",
       "      <td>...</td>\n",
       "      <td>6.263092</td>\n",
       "      <td>0.841378</td>\n",
       "      <td>53.081041</td>\n",
       "      <td>Unit 11, Hammersmith Broadway Shopping Centre,...</td>\n",
       "      <td>Hammersmith Underground Station - Talgarth Roa...</td>\n",
       "      <td>Hammersmith and Fulham</td>\n",
       "      <td>344.0</td>\n",
       "      <td>Ethnicity central</td>\n",
       "      <td>3d</td>\n",
       "      <td>3d1</td>\n",
       "    </tr>\n",
       "    <tr>\n",
       "      <th>2</th>\n",
       "      <td>7.0</td>\n",
       "      <td>51.49171</td>\n",
       "      <td>-0.22361</td>\n",
       "      <td>NaN</td>\n",
       "      <td>MovAvg</td>\n",
       "      <td>London</td>\n",
       "      <td>Greater London</td>\n",
       "      <td>0.087891</td>\n",
       "      <td>9.018724</td>\n",
       "      <td>15.868603</td>\n",
       "      <td>...</td>\n",
       "      <td>5.912387</td>\n",
       "      <td>0.958705</td>\n",
       "      <td>53.008327</td>\n",
       "      <td>Unit 13-16, Hammersmith Broadway Shopping Cent...</td>\n",
       "      <td>Talgarth Road entrance</td>\n",
       "      <td>Hammersmith and Fulham</td>\n",
       "      <td>344.0</td>\n",
       "      <td>Ethnicity central</td>\n",
       "      <td>3d</td>\n",
       "      <td>3d1</td>\n",
       "    </tr>\n",
       "    <tr>\n",
       "      <th>3</th>\n",
       "      <td>62.0</td>\n",
       "      <td>51.49226</td>\n",
       "      <td>-0.22374</td>\n",
       "      <td>NaN</td>\n",
       "      <td>MovAvg</td>\n",
       "      <td>London</td>\n",
       "      <td>Greater London</td>\n",
       "      <td>0.154238</td>\n",
       "      <td>8.773683</td>\n",
       "      <td>15.859061</td>\n",
       "      <td>...</td>\n",
       "      <td>6.448961</td>\n",
       "      <td>1.034977</td>\n",
       "      <td>52.907605</td>\n",
       "      <td>Unit 9, Hammersmith Broadway Shopping Centre, ...</td>\n",
       "      <td>Bus station link corridor</td>\n",
       "      <td>Hammersmith and Fulham</td>\n",
       "      <td>344.0</td>\n",
       "      <td>Ethnicity central</td>\n",
       "      <td>3d</td>\n",
       "      <td>3d1</td>\n",
       "    </tr>\n",
       "    <tr>\n",
       "      <th>4</th>\n",
       "      <td>78.0</td>\n",
       "      <td>51.49255</td>\n",
       "      <td>-0.22395</td>\n",
       "      <td>LSTM</td>\n",
       "      <td>MovAvg</td>\n",
       "      <td>London</td>\n",
       "      <td>Greater London</td>\n",
       "      <td>0.156842</td>\n",
       "      <td>8.516844</td>\n",
       "      <td>15.774605</td>\n",
       "      <td>...</td>\n",
       "      <td>6.805659</td>\n",
       "      <td>1.317535</td>\n",
       "      <td>52.715687</td>\n",
       "      <td>Unit 3, Hammersmith Broadway Shopping Centre, ...</td>\n",
       "      <td>Hammersmith Underground Station - King Street ...</td>\n",
       "      <td>Hammersmith and Fulham</td>\n",
       "      <td>344.0</td>\n",
       "      <td>Ethnicity central</td>\n",
       "      <td>3d</td>\n",
       "      <td>3d1</td>\n",
       "    </tr>\n",
       "  </tbody>\n",
       "</table>\n",
       "<p>5 rows × 22 columns</p>\n",
       "</div>"
      ],
      "text/plain": [
       "   location       lat      lon  best excLSTM    city          region  \\\n",
       "0       5.0  51.49273 -0.22426  LSTM  MovAvg  London  Greater London   \n",
       "1       6.0  51.49215 -0.22356  LSTM  MovAvg  London  Greater London   \n",
       "2       7.0  51.49171 -0.22361   NaN  MovAvg  London  Greater London   \n",
       "3      62.0  51.49226 -0.22374   NaN  MovAvg  London  Greater London   \n",
       "4      78.0  51.49255 -0.22395  LSTM  MovAvg  London  Greater London   \n",
       "\n",
       "     dist_A    dist_B  dist_Minor  ...  dist_Sec_Access  \\\n",
       "0  0.249989  8.183310   15.845292  ...         7.121891   \n",
       "1  0.283125  8.971344   15.829665  ...         6.263092   \n",
       "2  0.087891  9.018724   15.868603  ...         5.912387   \n",
       "3  0.154238  8.773683   15.859061  ...         6.448961   \n",
       "4  0.156842  8.516844   15.774605  ...         6.805659   \n",
       "\n",
       "   dist_Res_Local_Access  dist_Motorway  \\\n",
       "0               1.672632      52.418194   \n",
       "1               0.841378      53.081041   \n",
       "2               0.958705      53.008327   \n",
       "3               1.034977      52.907605   \n",
       "4               1.317535      52.715687   \n",
       "\n",
       "                                             address  \\\n",
       "0  Unit 35, Hammersmith Broadway Shopping Centre,...   \n",
       "1  Unit 11, Hammersmith Broadway Shopping Centre,...   \n",
       "2  Unit 13-16, Hammersmith Broadway Shopping Cent...   \n",
       "3  Unit 9, Hammersmith Broadway Shopping Centre, ...   \n",
       "4  Unit 3, Hammersmith Broadway Shopping Centre, ...   \n",
       "\n",
       "                                            position                DISTRICT  \\\n",
       "0                               King Street entrance  Hammersmith and Fulham   \n",
       "1  Hammersmith Underground Station - Talgarth Roa...  Hammersmith and Fulham   \n",
       "2                             Talgarth Road entrance  Hammersmith and Fulham   \n",
       "3                          Bus station link corridor  Hammersmith and Fulham   \n",
       "4  Hammersmith Underground Station - King Street ...  Hammersmith and Fulham   \n",
       "\n",
       "  POPULATION             SPRGRP  GRP SUBGRP  \n",
       "0      344.0  Ethnicity central   3d    3d1  \n",
       "1      344.0  Ethnicity central   3d    3d1  \n",
       "2      344.0  Ethnicity central   3d    3d1  \n",
       "3      344.0  Ethnicity central   3d    3d1  \n",
       "4      344.0  Ethnicity central   3d    3d1  \n",
       "\n",
       "[5 rows x 22 columns]"
      ]
     },
     "execution_count": 27,
     "metadata": {},
     "output_type": "execute_result"
    }
   ],
   "source": [
    "for i in range(len(loc_roads['SPRGRP'])): \n",
    "    if loc_roads['SPRGRP'][i] == 1:\n",
    "        loc_roads['SPRGRP'][i] = 'Rural residents'\n",
    "    elif loc_roads['SPRGRP'][i] == 2:\n",
    "        loc_roads['SPRGRP'][i] = 'Comsopolitans'\n",
    "    elif loc_roads['SPRGRP'][i] == 3:\n",
    "        loc_roads['SPRGRP'][i] = 'Ethnicity central'\n",
    "    elif loc_roads['SPRGRP'][i] == 4:\n",
    "        loc_roads['SPRGRP'][i] = 'Multicultural metropolitans'\n",
    "    elif loc_roads['SPRGRP'][i] == 5:\n",
    "        loc_roads['SPRGRP'][i] = 'Urbanites'\n",
    "    elif loc_roads['SPRGRP'][i] == 6:\n",
    "        loc_roads['SPRGRP'][i] = 'Suburbanites'\n",
    "    elif loc_roads['SPRGRP'][i] == 7:\n",
    "        loc_roads['SPRGRP'][i] = 'Constrained city dwellers'\n",
    "    elif loc_roads['SPRGRP'][i] == 8:\n",
    "        loc_roads['SPRGRP'][i] = 'Hard-pressed living'\n",
    "        \n",
    "loc_roads.head()"
   ]
  },
  {
   "cell_type": "code",
   "execution_count": 28,
   "id": "silver-fairy",
   "metadata": {},
   "outputs": [],
   "source": [
    "missing_ratio = pd.read_csv('missing_ratio.csv')"
   ]
  },
  {
   "cell_type": "code",
   "execution_count": 29,
   "id": "forced-group",
   "metadata": {},
   "outputs": [
    {
     "data": {
      "text/html": [
       "<div>\n",
       "<style scoped>\n",
       "    .dataframe tbody tr th:only-of-type {\n",
       "        vertical-align: middle;\n",
       "    }\n",
       "\n",
       "    .dataframe tbody tr th {\n",
       "        vertical-align: top;\n",
       "    }\n",
       "\n",
       "    .dataframe thead th {\n",
       "        text-align: right;\n",
       "    }\n",
       "</style>\n",
       "<table border=\"1\" class=\"dataframe\">\n",
       "  <thead>\n",
       "    <tr style=\"text-align: right;\">\n",
       "      <th></th>\n",
       "      <th>location</th>\n",
       "      <th>footfall_x</th>\n",
       "      <th>footfall_y</th>\n",
       "      <th>train missing ratio</th>\n",
       "      <th>test missing ratio</th>\n",
       "    </tr>\n",
       "  </thead>\n",
       "  <tbody>\n",
       "    <tr>\n",
       "      <th>0</th>\n",
       "      <td>5.0</td>\n",
       "      <td>0.856902</td>\n",
       "      <td>1.0</td>\n",
       "      <td>0.143098</td>\n",
       "      <td>0.0</td>\n",
       "    </tr>\n",
       "    <tr>\n",
       "      <th>1</th>\n",
       "      <td>6.0</td>\n",
       "      <td>0.851852</td>\n",
       "      <td>1.0</td>\n",
       "      <td>0.148148</td>\n",
       "      <td>0.0</td>\n",
       "    </tr>\n",
       "    <tr>\n",
       "      <th>2</th>\n",
       "      <td>7.0</td>\n",
       "      <td>0.856902</td>\n",
       "      <td>1.0</td>\n",
       "      <td>0.143098</td>\n",
       "      <td>0.0</td>\n",
       "    </tr>\n",
       "    <tr>\n",
       "      <th>3</th>\n",
       "      <td>31.0</td>\n",
       "      <td>0.964646</td>\n",
       "      <td>1.0</td>\n",
       "      <td>0.035354</td>\n",
       "      <td>0.0</td>\n",
       "    </tr>\n",
       "    <tr>\n",
       "      <th>4</th>\n",
       "      <td>54.0</td>\n",
       "      <td>0.656566</td>\n",
       "      <td>1.0</td>\n",
       "      <td>0.343434</td>\n",
       "      <td>0.0</td>\n",
       "    </tr>\n",
       "    <tr>\n",
       "      <th>...</th>\n",
       "      <td>...</td>\n",
       "      <td>...</td>\n",
       "      <td>...</td>\n",
       "      <td>...</td>\n",
       "      <td>...</td>\n",
       "    </tr>\n",
       "    <tr>\n",
       "      <th>406</th>\n",
       "      <td>1216.0</td>\n",
       "      <td>0.112795</td>\n",
       "      <td>1.0</td>\n",
       "      <td>0.887205</td>\n",
       "      <td>0.0</td>\n",
       "    </tr>\n",
       "    <tr>\n",
       "      <th>407</th>\n",
       "      <td>1217.0</td>\n",
       "      <td>0.102694</td>\n",
       "      <td>1.0</td>\n",
       "      <td>0.897306</td>\n",
       "      <td>0.0</td>\n",
       "    </tr>\n",
       "    <tr>\n",
       "      <th>408</th>\n",
       "      <td>1218.0</td>\n",
       "      <td>0.094276</td>\n",
       "      <td>1.0</td>\n",
       "      <td>0.905724</td>\n",
       "      <td>0.0</td>\n",
       "    </tr>\n",
       "    <tr>\n",
       "      <th>409</th>\n",
       "      <td>1221.0</td>\n",
       "      <td>0.069024</td>\n",
       "      <td>1.0</td>\n",
       "      <td>0.930976</td>\n",
       "      <td>0.0</td>\n",
       "    </tr>\n",
       "    <tr>\n",
       "      <th>410</th>\n",
       "      <td>1222.0</td>\n",
       "      <td>0.063973</td>\n",
       "      <td>1.0</td>\n",
       "      <td>0.936027</td>\n",
       "      <td>0.0</td>\n",
       "    </tr>\n",
       "  </tbody>\n",
       "</table>\n",
       "<p>411 rows × 5 columns</p>\n",
       "</div>"
      ],
      "text/plain": [
       "     location  footfall_x  footfall_y  train missing ratio  test missing ratio\n",
       "0         5.0    0.856902         1.0             0.143098                 0.0\n",
       "1         6.0    0.851852         1.0             0.148148                 0.0\n",
       "2         7.0    0.856902         1.0             0.143098                 0.0\n",
       "3        31.0    0.964646         1.0             0.035354                 0.0\n",
       "4        54.0    0.656566         1.0             0.343434                 0.0\n",
       "..        ...         ...         ...                  ...                 ...\n",
       "406    1216.0    0.112795         1.0             0.887205                 0.0\n",
       "407    1217.0    0.102694         1.0             0.897306                 0.0\n",
       "408    1218.0    0.094276         1.0             0.905724                 0.0\n",
       "409    1221.0    0.069024         1.0             0.930976                 0.0\n",
       "410    1222.0    0.063973         1.0             0.936027                 0.0\n",
       "\n",
       "[411 rows x 5 columns]"
      ]
     },
     "execution_count": 29,
     "metadata": {},
     "output_type": "execute_result"
    }
   ],
   "source": [
    "missing_ratio"
   ]
  },
  {
   "cell_type": "code",
   "execution_count": 30,
   "id": "affecting-ridge",
   "metadata": {},
   "outputs": [],
   "source": [
    "loc_roads = pd.merge(loc_roads, missing_ratio[['location','train missing ratio','test missing ratio']],\n",
    "                     how = 'inner', on = 'location')"
   ]
  },
  {
   "cell_type": "code",
   "execution_count": 194,
   "id": "brief-hanging",
   "metadata": {},
   "outputs": [
    {
     "data": {
      "image/png": "[encoded data removed]",
      "text/plain": [
       "<Figure size 400x300 with 1 Axes>"
      ]
     },
     "metadata": {},
     "output_type": "display_data"
    }
   ],
   "source": [
    "loc_roads[['train missing ratio','best']].groupby('best').mean().plot.bar(figsize = (4,3)).\\\n",
    "set_xticklabels(plt.gca().get_xticklabels(),rotation=0, ha='center')\n",
    "plt.legend().get_texts()[0].set_text('missing data ratio')"
   ]
  },
  {
   "cell_type": "code",
   "execution_count": 195,
   "id": "naked-repository",
   "metadata": {},
   "outputs": [
    {
     "data": {
      "image/png": "[encoded data removed]",
      "text/plain": [
       "<Figure size 400x300 with 1 Axes>"
      ]
     },
     "metadata": {},
     "output_type": "display_data"
    }
   ],
   "source": [
    "loc_roads[['test missing ratio','best']].groupby('best').mean().plot.bar(figsize = (4,3)).\\\n",
    "set_xticklabels(plt.gca().get_xticklabels(),rotation=0, ha='center')\n",
    "plt.legend().get_texts()[0].set_text('missing data ratio')"
   ]
  },
  {
   "cell_type": "code",
   "execution_count": 196,
   "id": "hawaiian-participation",
   "metadata": {},
   "outputs": [
    {
     "data": {
      "image/png": "[encoded data removed]",
      "text/plain": [
       "<Figure size 400x300 with 1 Axes>"
      ]
     },
     "metadata": {},
     "output_type": "display_data"
    }
   ],
   "source": [
    "loc_roads[['train missing ratio','excLSTM']].groupby('excLSTM').mean().plot.bar(figsize = (4,3)).\\\n",
    "set_xticklabels(plt.gca().get_xticklabels(),rotation=0, ha='center')\n",
    "plt.legend().get_texts()[0].set_text('missing data ratio')"
   ]
  },
  {
   "cell_type": "code",
   "execution_count": 197,
   "id": "continued-timeline",
   "metadata": {},
   "outputs": [
    {
     "data": {
      "image/png": "[encoded data removed]",
      "text/plain": [
       "<Figure size 400x300 with 1 Axes>"
      ]
     },
     "metadata": {},
     "output_type": "display_data"
    }
   ],
   "source": [
    "loc_roads[['test missing ratio','excLSTM']].groupby('excLSTM').mean().plot.bar(figsize = (4,3)).\\\n",
    "set_xticklabels(plt.gca().get_xticklabels(),rotation=0, ha='center')\n",
    "plt.legend().get_texts()[0].set_text('missing data ratio')"
   ]
  },
  {
   "cell_type": "markdown",
   "id": "waiting-diving",
   "metadata": {},
   "source": [
    "### 1. Modelling Methods exclude LSTM"
   ]
  },
  {
   "cell_type": "code",
   "execution_count": 78,
   "id": "typical-configuration",
   "metadata": {},
   "outputs": [],
   "source": [
    "plt.style.use('default')"
   ]
  },
  {
   "cell_type": "code",
   "execution_count": 31,
   "id": "limiting-event",
   "metadata": {},
   "outputs": [
    {
     "data": {
      "text/html": [
       "<div>\n",
       "<style scoped>\n",
       "    .dataframe tbody tr th:only-of-type {\n",
       "        vertical-align: middle;\n",
       "    }\n",
       "\n",
       "    .dataframe tbody tr th {\n",
       "        vertical-align: top;\n",
       "    }\n",
       "\n",
       "    .dataframe thead th {\n",
       "        text-align: right;\n",
       "    }\n",
       "</style>\n",
       "<table border=\"1\" class=\"dataframe\">\n",
       "  <thead>\n",
       "    <tr style=\"text-align: right;\">\n",
       "      <th></th>\n",
       "      <th>location</th>\n",
       "      <th>lat</th>\n",
       "      <th>lon</th>\n",
       "      <th>excLSTM</th>\n",
       "      <th>city</th>\n",
       "      <th>region</th>\n",
       "      <th>dist_A</th>\n",
       "      <th>dist_B</th>\n",
       "      <th>dist_Minor</th>\n",
       "      <th>dist_Local</th>\n",
       "      <th>...</th>\n",
       "      <th>dist_Motorway</th>\n",
       "      <th>address</th>\n",
       "      <th>position</th>\n",
       "      <th>DISTRICT</th>\n",
       "      <th>POPULATION</th>\n",
       "      <th>SPRGRP</th>\n",
       "      <th>GRP</th>\n",
       "      <th>SUBGRP</th>\n",
       "      <th>train missing ratio</th>\n",
       "      <th>test missing ratio</th>\n",
       "    </tr>\n",
       "  </thead>\n",
       "  <tbody>\n",
       "    <tr>\n",
       "      <th>0</th>\n",
       "      <td>5.0</td>\n",
       "      <td>51.49273</td>\n",
       "      <td>-0.22426</td>\n",
       "      <td>MovAvg</td>\n",
       "      <td>London</td>\n",
       "      <td>Greater London</td>\n",
       "      <td>0.249989</td>\n",
       "      <td>8.183310</td>\n",
       "      <td>15.845292</td>\n",
       "      <td>0.343351</td>\n",
       "      <td>...</td>\n",
       "      <td>52.418194</td>\n",
       "      <td>Unit 35, Hammersmith Broadway Shopping Centre,...</td>\n",
       "      <td>King Street entrance</td>\n",
       "      <td>Hammersmith and Fulham</td>\n",
       "      <td>344.0</td>\n",
       "      <td>Ethnicity central</td>\n",
       "      <td>3d</td>\n",
       "      <td>3d1</td>\n",
       "      <td>0.143098</td>\n",
       "      <td>0.0</td>\n",
       "    </tr>\n",
       "    <tr>\n",
       "      <th>1</th>\n",
       "      <td>6.0</td>\n",
       "      <td>51.49215</td>\n",
       "      <td>-0.22356</td>\n",
       "      <td>MovAvg</td>\n",
       "      <td>London</td>\n",
       "      <td>Greater London</td>\n",
       "      <td>0.283125</td>\n",
       "      <td>8.971344</td>\n",
       "      <td>15.829665</td>\n",
       "      <td>0.085263</td>\n",
       "      <td>...</td>\n",
       "      <td>53.081041</td>\n",
       "      <td>Unit 11, Hammersmith Broadway Shopping Centre,...</td>\n",
       "      <td>Hammersmith Underground Station - Talgarth Roa...</td>\n",
       "      <td>Hammersmith and Fulham</td>\n",
       "      <td>344.0</td>\n",
       "      <td>Ethnicity central</td>\n",
       "      <td>3d</td>\n",
       "      <td>3d1</td>\n",
       "      <td>0.148148</td>\n",
       "      <td>0.0</td>\n",
       "    </tr>\n",
       "    <tr>\n",
       "      <th>2</th>\n",
       "      <td>7.0</td>\n",
       "      <td>51.49171</td>\n",
       "      <td>-0.22361</td>\n",
       "      <td>MovAvg</td>\n",
       "      <td>London</td>\n",
       "      <td>Greater London</td>\n",
       "      <td>0.087891</td>\n",
       "      <td>9.018724</td>\n",
       "      <td>15.868603</td>\n",
       "      <td>0.333934</td>\n",
       "      <td>...</td>\n",
       "      <td>53.008327</td>\n",
       "      <td>Unit 13-16, Hammersmith Broadway Shopping Cent...</td>\n",
       "      <td>Talgarth Road entrance</td>\n",
       "      <td>Hammersmith and Fulham</td>\n",
       "      <td>344.0</td>\n",
       "      <td>Ethnicity central</td>\n",
       "      <td>3d</td>\n",
       "      <td>3d1</td>\n",
       "      <td>0.143098</td>\n",
       "      <td>0.0</td>\n",
       "    </tr>\n",
       "    <tr>\n",
       "      <th>3</th>\n",
       "      <td>62.0</td>\n",
       "      <td>51.49226</td>\n",
       "      <td>-0.22374</td>\n",
       "      <td>MovAvg</td>\n",
       "      <td>London</td>\n",
       "      <td>Greater London</td>\n",
       "      <td>0.154238</td>\n",
       "      <td>8.773683</td>\n",
       "      <td>15.859061</td>\n",
       "      <td>0.231139</td>\n",
       "      <td>...</td>\n",
       "      <td>52.907605</td>\n",
       "      <td>Unit 9, Hammersmith Broadway Shopping Centre, ...</td>\n",
       "      <td>Bus station link corridor</td>\n",
       "      <td>Hammersmith and Fulham</td>\n",
       "      <td>344.0</td>\n",
       "      <td>Ethnicity central</td>\n",
       "      <td>3d</td>\n",
       "      <td>3d1</td>\n",
       "      <td>0.144781</td>\n",
       "      <td>0.0</td>\n",
       "    </tr>\n",
       "    <tr>\n",
       "      <th>4</th>\n",
       "      <td>78.0</td>\n",
       "      <td>51.49255</td>\n",
       "      <td>-0.22395</td>\n",
       "      <td>MovAvg</td>\n",
       "      <td>London</td>\n",
       "      <td>Greater London</td>\n",
       "      <td>0.156842</td>\n",
       "      <td>8.516844</td>\n",
       "      <td>15.774605</td>\n",
       "      <td>0.331833</td>\n",
       "      <td>...</td>\n",
       "      <td>52.715687</td>\n",
       "      <td>Unit 3, Hammersmith Broadway Shopping Centre, ...</td>\n",
       "      <td>Hammersmith Underground Station - King Street ...</td>\n",
       "      <td>Hammersmith and Fulham</td>\n",
       "      <td>344.0</td>\n",
       "      <td>Ethnicity central</td>\n",
       "      <td>3d</td>\n",
       "      <td>3d1</td>\n",
       "      <td>0.148148</td>\n",
       "      <td>0.0</td>\n",
       "    </tr>\n",
       "  </tbody>\n",
       "</table>\n",
       "<p>5 rows × 23 columns</p>\n",
       "</div>"
      ],
      "text/plain": [
       "   location       lat      lon excLSTM    city          region    dist_A  \\\n",
       "0       5.0  51.49273 -0.22426  MovAvg  London  Greater London  0.249989   \n",
       "1       6.0  51.49215 -0.22356  MovAvg  London  Greater London  0.283125   \n",
       "2       7.0  51.49171 -0.22361  MovAvg  London  Greater London  0.087891   \n",
       "3      62.0  51.49226 -0.22374  MovAvg  London  Greater London  0.154238   \n",
       "4      78.0  51.49255 -0.22395  MovAvg  London  Greater London  0.156842   \n",
       "\n",
       "     dist_B  dist_Minor  dist_Local  ...  dist_Motorway  \\\n",
       "0  8.183310   15.845292    0.343351  ...      52.418194   \n",
       "1  8.971344   15.829665    0.085263  ...      53.081041   \n",
       "2  9.018724   15.868603    0.333934  ...      53.008327   \n",
       "3  8.773683   15.859061    0.231139  ...      52.907605   \n",
       "4  8.516844   15.774605    0.331833  ...      52.715687   \n",
       "\n",
       "                                             address  \\\n",
       "0  Unit 35, Hammersmith Broadway Shopping Centre,...   \n",
       "1  Unit 11, Hammersmith Broadway Shopping Centre,...   \n",
       "2  Unit 13-16, Hammersmith Broadway Shopping Cent...   \n",
       "3  Unit 9, Hammersmith Broadway Shopping Centre, ...   \n",
       "4  Unit 3, Hammersmith Broadway Shopping Centre, ...   \n",
       "\n",
       "                                            position                DISTRICT  \\\n",
       "0                               King Street entrance  Hammersmith and Fulham   \n",
       "1  Hammersmith Underground Station - Talgarth Roa...  Hammersmith and Fulham   \n",
       "2                             Talgarth Road entrance  Hammersmith and Fulham   \n",
       "3                          Bus station link corridor  Hammersmith and Fulham   \n",
       "4  Hammersmith Underground Station - King Street ...  Hammersmith and Fulham   \n",
       "\n",
       "  POPULATION             SPRGRP GRP  SUBGRP train missing ratio  \\\n",
       "0      344.0  Ethnicity central  3d     3d1            0.143098   \n",
       "1      344.0  Ethnicity central  3d     3d1            0.148148   \n",
       "2      344.0  Ethnicity central  3d     3d1            0.143098   \n",
       "3      344.0  Ethnicity central  3d     3d1            0.144781   \n",
       "4      344.0  Ethnicity central  3d     3d1            0.148148   \n",
       "\n",
       "  test missing ratio  \n",
       "0                0.0  \n",
       "1                0.0  \n",
       "2                0.0  \n",
       "3                0.0  \n",
       "4                0.0  \n",
       "\n",
       "[5 rows x 23 columns]"
      ]
     },
     "execution_count": 31,
     "metadata": {},
     "output_type": "execute_result"
    }
   ],
   "source": [
    "loc_excLSTM = loc_roads.drop('best', axis = 1)\n",
    "loc_excLSTM = loc_excLSTM[~loc_excLSTM['excLSTM'].isin([' '])]\n",
    "loc_excLSTM = loc_excLSTM.reset_index(drop=True)\n",
    "loc_excLSTM.head()"
   ]
  },
  {
   "cell_type": "code",
   "execution_count": null,
   "id": "sunset-charles",
   "metadata": {},
   "outputs": [],
   "source": []
  },
  {
   "cell_type": "markdown",
   "id": "demanding-device",
   "metadata": {},
   "source": [
    "#### Term document matrix for 'address', 'city','SPRGRP'"
   ]
  },
  {
   "cell_type": "code",
   "execution_count": 32,
   "id": "therapeutic-project",
   "metadata": {},
   "outputs": [],
   "source": [
    "from sklearn.feature_extraction.text import CountVectorizer"
   ]
  },
  {
   "cell_type": "code",
   "execution_count": 33,
   "id": "postal-artwork",
   "metadata": {},
   "outputs": [
    {
     "name": "stdout",
     "output_type": "stream",
     "text": [
      "(110, 243)\n"
     ]
    }
   ],
   "source": [
    "count_vectorizer =  CountVectorizer(tokenizer=lambda x: x.split(','))\n",
    "address = count_vectorizer.fit_transform(loc_excLSTM['address'])\n",
    "df_address = pd.DataFrame(address.toarray(), columns=count_vectorizer.get_feature_names())\n",
    "print(df_address.shape)"
   ]
  },
  {
   "cell_type": "code",
   "execution_count": 34,
   "id": "tight-bolivia",
   "metadata": {},
   "outputs": [
    {
     "name": "stdout",
     "output_type": "stream",
     "text": [
      "(110, 4)\n"
     ]
    }
   ],
   "source": [
    "supgrp = count_vectorizer.fit_transform(loc_excLSTM['SPRGRP'])\n",
    "df_supgrp = pd.DataFrame(supgrp.toarray(), columns=count_vectorizer.get_feature_names())\n",
    "print(df_supgrp.shape)"
   ]
  },
  {
   "cell_type": "code",
   "execution_count": 35,
   "id": "multiple-thompson",
   "metadata": {},
   "outputs": [
    {
     "name": "stdout",
     "output_type": "stream",
     "text": [
      "(110, 8)\n"
     ]
    }
   ],
   "source": [
    "grp = count_vectorizer.fit_transform(loc_excLSTM['GRP'])\n",
    "df_grp = pd.DataFrame(grp.toarray(), columns=count_vectorizer.get_feature_names())\n",
    "print(df_grp.shape)"
   ]
  },
  {
   "cell_type": "code",
   "execution_count": 36,
   "id": "authentic-nerve",
   "metadata": {},
   "outputs": [
    {
     "name": "stdout",
     "output_type": "stream",
     "text": [
      "(110, 15)\n"
     ]
    }
   ],
   "source": [
    "subgrp = count_vectorizer.fit_transform(loc_excLSTM['SUBGRP'])\n",
    "df_subgrp = pd.DataFrame(subgrp.toarray(), columns=count_vectorizer.get_feature_names())\n",
    "print(df_subgrp.shape)"
   ]
  },
  {
   "cell_type": "code",
   "execution_count": 37,
   "id": "collaborative-street",
   "metadata": {},
   "outputs": [
    {
     "name": "stdout",
     "output_type": "stream",
     "text": [
      "(110, 6)\n"
     ]
    }
   ],
   "source": [
    "city = count_vectorizer.fit_transform(loc_excLSTM['city'])\n",
    "df_city = pd.DataFrame(city.toarray(), columns=count_vectorizer.get_feature_names())\n",
    "print(df_city.shape)"
   ]
  },
  {
   "cell_type": "code",
   "execution_count": 38,
   "id": "juvenile-office",
   "metadata": {},
   "outputs": [
    {
     "name": "stdout",
     "output_type": "stream",
     "text": [
      "(110, 18)\n"
     ]
    }
   ],
   "source": [
    "district = count_vectorizer.fit_transform(loc_excLSTM['DISTRICT'])\n",
    "df_district = pd.DataFrame(district.toarray(), columns=count_vectorizer.get_feature_names())\n",
    "print(df_district.shape)"
   ]
  },
  {
   "cell_type": "code",
   "execution_count": 42,
   "id": "through-contamination",
   "metadata": {},
   "outputs": [],
   "source": [
    "col_corr = ['dist_A','dist_B','dist_Minor','dist_Local', 'dist_Local_Access', 'dist_Sec_Access', \n",
    "            'dist_Res_Local_Access', 'dist_Motorway','train missing ratio','test missing ratio']"
   ]
  },
  {
   "cell_type": "code",
   "execution_count": 43,
   "id": "bearing-relief",
   "metadata": {},
   "outputs": [
    {
     "data": {
      "image/png": "[encoded data removed]",
      "text/plain": [
       "<Figure size 432x432 with 2 Axes>"
      ]
     },
     "metadata": {},
     "output_type": "display_data"
    }
   ],
   "source": [
    "corr = loc_roads[col_corr].corr()\n",
    "plt.figure(figsize = (6,6))\n",
    "sns.set(font_scale=1)\n",
    "sns.heatmap(corr, cbar = True, annot=True, square = True, fmt = '.2f', cmap=\"YlGnBu_r\", xticklabels=col_corr, yticklabels=col_corr)\n",
    "plt.show();"
   ]
  },
  {
   "cell_type": "markdown",
   "id": "sweet-offer",
   "metadata": {},
   "source": [
    "#### Processing and adding categorical features"
   ]
  },
  {
   "cell_type": "code",
   "execution_count": 48,
   "id": "apparent-credit",
   "metadata": {},
   "outputs": [],
   "source": [
    "loc_excLSTM_select = loc_excLSTM[['excLSTM','dist_A','dist_B','dist_Minor',\n",
    "                                 'dist_Local', 'dist_Local_Access', 'dist_Sec_Access', \n",
    "                                  'dist_Res_Local_Access', 'dist_Motorway',\n",
    "                                  'train missing ratio','test missing ratio']]\n",
    "\n",
    "#loc_excLSTM_select = pd.concat([loc_excLSTM_select, df_address], axis=1, join='inner')\n",
    "loc_excLSTM_select = pd.concat([loc_excLSTM_select, df_supgrp], axis=1, join='inner')\n",
    "#loc_excLSTM_select = pd.concat([loc_excLSTM_select, df_grp], axis=1, join='inner')\n",
    "#loc_excLSTM_select = pd.concat([loc_excLSTM_select, df_subgrp], axis=1, join='inner')\n",
    "#loc_excLSTM_select = pd.concat([loc_excLSTM_select, df_city], axis=1, join='inner')\n",
    "#loc_excLSTM_select = pd.concat([loc_excLSTM_select, df_district], axis=1, join='inner')"
   ]
  },
  {
   "cell_type": "markdown",
   "id": "wrapped-boundary",
   "metadata": {},
   "source": [
    "#### Encoding 'BEST METHODS'"
   ]
  },
  {
   "cell_type": "code",
   "execution_count": 49,
   "id": "incorporate-lighting",
   "metadata": {},
   "outputs": [],
   "source": [
    "from sklearn import preprocessing"
   ]
  },
  {
   "cell_type": "code",
   "execution_count": 50,
   "id": "exciting-istanbul",
   "metadata": {},
   "outputs": [],
   "source": [
    "factor = pd.factorize(loc_excLSTM_select['excLSTM'])\n",
    "loc_excLSTM_select['excLSTM'] = factor[0]\n",
    "definitions = factor[1]"
   ]
  },
  {
   "cell_type": "markdown",
   "id": "continuing-stupid",
   "metadata": {},
   "source": [
    "### Random Forest Classifer"
   ]
  },
  {
   "cell_type": "code",
   "execution_count": 74,
   "id": "loaded-employer",
   "metadata": {},
   "outputs": [],
   "source": [
    "from sklearn.metrics import accuracy_score, classification_report"
   ]
  },
  {
   "cell_type": "code",
   "execution_count": 79,
   "id": "invisible-imperial",
   "metadata": {},
   "outputs": [
    {
     "name": "stdout",
     "output_type": "stream",
     "text": [
      "train accuracy:0.9487179487179487\n",
      "test accuracy: 0.5625\n"
     ]
    }
   ],
   "source": [
    "y = loc_excLSTM_select['excLSTM']\n",
    "x = loc_excLSTM_select.drop('excLSTM', axis =1)\n",
    "X_tr, X_te, y_tr, y_te = train_test_split(x, y, test_size = 0.29, random_state=1)\n",
    "rf = RandomForestClassifier(n_estimators = 10, \n",
    "                            criterion = 'entropy', \n",
    "                            max_depth = None,\n",
    "                            random_state = 3, \n",
    "                            n_jobs = 1)\n",
    "rf.fit(X_tr, y_tr)\n",
    "y_tr_pred = rf.predict(X_tr)\n",
    "y_te_pred = rf.predict(X_te)\n",
    "\n",
    "train_accuracy = accuracy_score(y_tr,y_tr_pred)\n",
    "test_accuracy = accuracy_score(y_te,y_te_pred)\n",
    "\n",
    "print('train accuracy:' + str(train_accuracy))\n",
    "print('test accuracy: ' + str(test_accuracy))"
   ]
  },
  {
   "cell_type": "code",
   "execution_count": 80,
   "id": "detected-injury",
   "metadata": {
    "scrolled": true
   },
   "outputs": [
    {
     "data": {
      "text/plain": [
       "<AxesSubplot:>"
      ]
     },
     "execution_count": 80,
     "metadata": {},
     "output_type": "execute_result"
    },
    {
     "data": {
      "image/png": "[encoded data removed]",
      "text/plain": [
       "<Figure size 700x400 with 1 Axes>"
      ]
     },
     "metadata": {},
     "output_type": "display_data"
    }
   ],
   "source": [
    "feat_imp = pd.Series(rf.feature_importances_, index = X_tr.columns)\n",
    "feat_imp.nlargest(20).plot(kind = 'barh', figsize = (7,4))"
   ]
  },
  {
   "cell_type": "markdown",
   "id": "together-seattle",
   "metadata": {},
   "source": [
    "### 2. Modelling Methods include LSTM"
   ]
  },
  {
   "cell_type": "code",
   "execution_count": 57,
   "id": "photographic-vancouver",
   "metadata": {},
   "outputs": [],
   "source": [
    "loc_LSTM = loc_roads.drop('excLSTM', axis = 1)\n",
    "loc_LSTM = loc_LSTM[~loc_LSTM['best'].isin([' '])]\n",
    "loc_LSTM = loc_LSTM.reset_index(drop=True)"
   ]
  },
  {
   "cell_type": "markdown",
   "id": "norman-difference",
   "metadata": {},
   "source": [
    "#### Term document matrix for 'nearest_roads', 'address', 'city'"
   ]
  },
  {
   "cell_type": "code",
   "execution_count": 58,
   "id": "tribal-dakota",
   "metadata": {},
   "outputs": [
    {
     "name": "stdout",
     "output_type": "stream",
     "text": [
      "(110, 243)\n"
     ]
    }
   ],
   "source": [
    "count_vectorizer =  CountVectorizer(tokenizer=lambda x: x.split(','))\n",
    "address = count_vectorizer.fit_transform(loc_LSTM['address'])\n",
    "df_address = pd.DataFrame(address.toarray(), columns=count_vectorizer.get_feature_names())\n",
    "print(df_address.shape)"
   ]
  },
  {
   "cell_type": "code",
   "execution_count": 59,
   "id": "incorrect-optics",
   "metadata": {},
   "outputs": [
    {
     "name": "stdout",
     "output_type": "stream",
     "text": [
      "(110, 4)\n"
     ]
    }
   ],
   "source": [
    "supgrp = count_vectorizer.fit_transform(loc_LSTM['SPRGRP'])\n",
    "df_supgrp = pd.DataFrame(supgrp.toarray(), columns=count_vectorizer.get_feature_names())\n",
    "print(df_supgrp.shape)"
   ]
  },
  {
   "cell_type": "code",
   "execution_count": 60,
   "id": "assured-folks",
   "metadata": {},
   "outputs": [
    {
     "name": "stdout",
     "output_type": "stream",
     "text": [
      "(110, 8)\n"
     ]
    }
   ],
   "source": [
    "grp = count_vectorizer.fit_transform(loc_LSTM['GRP'])\n",
    "df_grp = pd.DataFrame(grp.toarray(), columns=count_vectorizer.get_feature_names())\n",
    "print(df_grp.shape)"
   ]
  },
  {
   "cell_type": "code",
   "execution_count": 61,
   "id": "indirect-sewing",
   "metadata": {},
   "outputs": [
    {
     "name": "stdout",
     "output_type": "stream",
     "text": [
      "(110, 6)\n"
     ]
    }
   ],
   "source": [
    "city = count_vectorizer.fit_transform(loc_LSTM['city'])\n",
    "df_city = pd.DataFrame(city.toarray(), columns=count_vectorizer.get_feature_names())\n",
    "print(df_city.shape)"
   ]
  },
  {
   "cell_type": "code",
   "execution_count": 62,
   "id": "great-denver",
   "metadata": {},
   "outputs": [
    {
     "name": "stdout",
     "output_type": "stream",
     "text": [
      "(110, 18)\n"
     ]
    }
   ],
   "source": [
    "district = count_vectorizer.fit_transform(loc_LSTM['DISTRICT'])\n",
    "df_district = pd.DataFrame(district.toarray(), columns=count_vectorizer.get_feature_names())\n",
    "print(df_district.shape)"
   ]
  },
  {
   "cell_type": "markdown",
   "id": "twelve-shanghai",
   "metadata": {},
   "source": [
    "#### Processing and adding categorical features"
   ]
  },
  {
   "cell_type": "code",
   "execution_count": 63,
   "id": "decreased-generic",
   "metadata": {},
   "outputs": [],
   "source": [
    "loc_LSTM_select = loc_LSTM[['best','dist_A','dist_B','dist_Minor',\n",
    "                                 'dist_Local', 'dist_Local_Access', 'dist_Sec_Access', \n",
    "                                  'dist_Res_Local_Access', 'dist_Motorway',\n",
    "                            'train missing ratio','test missing ratio']]\n",
    "\n",
    "#loc_LSTM_select = pd.concat([loc_LSTM_select, df_address], axis=1, join='inner')\n",
    "loc_LSTM_select = pd.concat([loc_LSTM_select, df_supgrp], axis=1, join='inner')\n",
    "#loc_LSTM_select = pd.concat([loc_LSTM_select, df_grp], axis=1, join='inner')\n",
    "#loc_LSTM_select = pd.concat([loc_LSTM_select, df_city], axis=1, join='inner')\n",
    "#loc_LSTM_select = pd.concat([loc_LSTM_select, df_district], axis=1, join='inner')"
   ]
  },
  {
   "cell_type": "markdown",
   "id": "romantic-company",
   "metadata": {},
   "source": [
    "#### Encoding 'BEST METHODS'"
   ]
  },
  {
   "cell_type": "code",
   "execution_count": 64,
   "id": "informal-semester",
   "metadata": {},
   "outputs": [],
   "source": [
    "factor = pd.factorize(loc_LSTM_select['best'])\n",
    "loc_LSTM_select['best'] = factor[0]\n",
    "definitions = factor[1]"
   ]
  },
  {
   "cell_type": "markdown",
   "id": "funny-infrared",
   "metadata": {},
   "source": [
    "### Random Forest Classifer"
   ]
  },
  {
   "cell_type": "code",
   "execution_count": 81,
   "id": "greatest-grace",
   "metadata": {},
   "outputs": [
    {
     "name": "stdout",
     "output_type": "stream",
     "text": [
      "train accuracy:0.975609756097561\n",
      "test accuracy: 0.6071428571428571\n"
     ]
    }
   ],
   "source": [
    "y = loc_LSTM_select['best']\n",
    "x = loc_LSTM_select.drop('best', axis =1)\n",
    "X_tr, X_te, y_tr, y_te = train_test_split(x, y, test_size = 0.25, random_state=5)\n",
    "rf = RandomForestClassifier(n_estimators = 10, \n",
    "                            criterion = 'entropy', \n",
    "                            max_depth = None,\n",
    "                            random_state = 3, \n",
    "                            n_jobs = 1)\n",
    "rf.fit(X_tr, y_tr)\n",
    "y_tr_pred = rf.predict(X_tr)\n",
    "y_te_pred = rf.predict(X_te)\n",
    "\n",
    "train_accuracy = accuracy_score(y_tr,y_tr_pred)\n",
    "test_accuracy = accuracy_score(y_te,y_te_pred)\n",
    "\n",
    "print('train accuracy:' + str(train_accuracy))\n",
    "print('test accuracy: ' + str(test_accuracy))"
   ]
  },
  {
   "cell_type": "code",
   "execution_count": 82,
   "id": "renewable-musical",
   "metadata": {},
   "outputs": [
    {
     "data": {
      "text/plain": [
       "<AxesSubplot:>"
      ]
     },
     "execution_count": 82,
     "metadata": {},
     "output_type": "execute_result"
    },
    {
     "data": {
      "image/png": "[encoded data removed]",
      "text/plain": [
       "<Figure size 700x400 with 1 Axes>"
      ]
     },
     "metadata": {},
     "output_type": "display_data"
    }
   ],
   "source": [
    "feat_imp = pd.Series(rf.feature_importances_, index = X_tr.columns)\n",
    "feat_imp.nlargest(20).plot(kind = 'barh', figsize = (7,4))"
   ]
  },
  {
   "cell_type": "code",
   "execution_count": null,
   "id": "celtic-record",
   "metadata": {},
   "outputs": [],
   "source": []
  }
 ],
 "metadata": {
  "kernelspec": {
   "display_name": "urbsim",
   "language": "python",
   "name": "urbsim"
  },
  "language_info": {
   "codemirror_mode": {
    "name": "ipython",
    "version": 3
   },
   "file_extension": ".py",
   "mimetype": "text/x-python",
   "name": "python",
   "nbconvert_exporter": "python",
   "pygments_lexer": "ipython3",
   "version": "3.7.9"
  }
 },
 "nbformat": 4,
 "nbformat_minor": 5
}
